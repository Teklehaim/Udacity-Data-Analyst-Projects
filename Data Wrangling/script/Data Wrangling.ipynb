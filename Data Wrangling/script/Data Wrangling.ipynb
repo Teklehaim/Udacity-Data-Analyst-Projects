{
 "cells": [
  {
   "cell_type": "markdown",
   "metadata": {
    "toc": true
   },
   "source": [
    "<h1>Table of Contents<span class=\"tocSkip\"></span></h1>\n",
    "<div class=\"toc\"><ul class=\"toc-item\"><li><span><a href=\"#Project-Description\" data-toc-modified-id=\"Project-Description-1\"><span class=\"toc-item-num\">1&nbsp;&nbsp;</span>Project Description</a></span></li><li><span><a href=\"#Importing-python-packages\" data-toc-modified-id=\"Importing-python-packages-2\"><span class=\"toc-item-num\">2&nbsp;&nbsp;</span>Importing python packages</a></span></li><li><span><a href=\"#Gathering-Data\" data-toc-modified-id=\"Gathering-Data-3\"><span class=\"toc-item-num\">3&nbsp;&nbsp;</span>Gathering Data</a></span><ul class=\"toc-item\"><li><span><a href=\"#Reading-image-predctions\" data-toc-modified-id=\"Reading-image-predctions-3.1\"><span class=\"toc-item-num\">3.1&nbsp;&nbsp;</span>Reading image predctions</a></span></li><li><span><a href=\"#Reading-twitter_archive_enhanced-data\" data-toc-modified-id=\"Reading-twitter_archive_enhanced-data-3.2\"><span class=\"toc-item-num\">3.2&nbsp;&nbsp;</span>Reading twitter_archive_enhanced data</a></span></li><li><span><a href=\"#Reading-tweet-json.txt-data\" data-toc-modified-id=\"Reading-tweet-json.txt-data-3.3\"><span class=\"toc-item-num\">3.3&nbsp;&nbsp;</span>Reading tweet-json.txt data</a></span></li></ul></li><li><span><a href=\"#Assessing-data\" data-toc-modified-id=\"Assessing-data-4\"><span class=\"toc-item-num\">4&nbsp;&nbsp;</span>Assessing data</a></span><ul class=\"toc-item\"><li><span><a href=\"#Image_predictions-data:\" data-toc-modified-id=\"Image_predictions-data:-4.1\"><span class=\"toc-item-num\">4.1&nbsp;&nbsp;</span>Image_predictions data:</a></span><ul class=\"toc-item\"><li><span><a href=\"#Quality-issues\" data-toc-modified-id=\"Quality-issues-4.1.1\"><span class=\"toc-item-num\">4.1.1&nbsp;&nbsp;</span>Quality issues</a></span></li><li><span><a href=\"#Tidiness-issues\" data-toc-modified-id=\"Tidiness-issues-4.1.2\"><span class=\"toc-item-num\">4.1.2&nbsp;&nbsp;</span>Tidiness issues</a></span></li></ul></li><li><span><a href=\"#Twitter-archieve-enhanced--data\" data-toc-modified-id=\"Twitter-archieve-enhanced--data-4.2\"><span class=\"toc-item-num\">4.2&nbsp;&nbsp;</span>Twitter archieve enhanced  data</a></span><ul class=\"toc-item\"><li><span><a href=\"#Quality-issues\" data-toc-modified-id=\"Quality-issues-4.2.1\"><span class=\"toc-item-num\">4.2.1&nbsp;&nbsp;</span>Quality issues</a></span></li><li><span><a href=\"#Tidiness-issues\" data-toc-modified-id=\"Tidiness-issues-4.2.2\"><span class=\"toc-item-num\">4.2.2&nbsp;&nbsp;</span>Tidiness issues</a></span></li></ul></li><li><span><a href=\"#tweet-json-data:\" data-toc-modified-id=\"tweet-json-data:-4.3\"><span class=\"toc-item-num\">4.3&nbsp;&nbsp;</span>tweet-json data:</a></span><ul class=\"toc-item\"><li><span><a href=\"#Quality-issues\" data-toc-modified-id=\"Quality-issues-4.3.1\"><span class=\"toc-item-num\">4.3.1&nbsp;&nbsp;</span>Quality issues</a></span></li><li><span><a href=\"#Tidiness-issues\" data-toc-modified-id=\"Tidiness-issues-4.3.2\"><span class=\"toc-item-num\">4.3.2&nbsp;&nbsp;</span>Tidiness issues</a></span></li></ul></li></ul></li><li><span><a href=\"#Cleaning-data\" data-toc-modified-id=\"Cleaning-data-5\"><span class=\"toc-item-num\">5&nbsp;&nbsp;</span>Cleaning data</a></span><ul class=\"toc-item\"><li><span><a href=\"#Image-prediction\" data-toc-modified-id=\"Image-prediction-5.1\"><span class=\"toc-item-num\">5.1&nbsp;&nbsp;</span>Image prediction</a></span><ul class=\"toc-item\"><li><span><a href=\"#Define:\" data-toc-modified-id=\"Define:-5.1.1\"><span class=\"toc-item-num\">5.1.1&nbsp;&nbsp;</span>Define:</a></span></li><li><span><a href=\"#Code-:\" data-toc-modified-id=\"Code-:-5.1.2\"><span class=\"toc-item-num\">5.1.2&nbsp;&nbsp;</span>Code :</a></span></li><li><span><a href=\"#Test:\" data-toc-modified-id=\"Test:-5.1.3\"><span class=\"toc-item-num\">5.1.3&nbsp;&nbsp;</span>Test:</a></span></li><li><span><a href=\"#Test:\" data-toc-modified-id=\"Test:-5.1.4\"><span class=\"toc-item-num\">5.1.4&nbsp;&nbsp;</span>Test:</a></span></li></ul></li><li><span><a href=\"#Twitter-archive-enhanced-data\" data-toc-modified-id=\"Twitter-archive-enhanced-data-5.2\"><span class=\"toc-item-num\">5.2&nbsp;&nbsp;</span>Twitter archive enhanced data</a></span><ul class=\"toc-item\"><li><span><a href=\"#Define:\" data-toc-modified-id=\"Define:-5.2.1\"><span class=\"toc-item-num\">5.2.1&nbsp;&nbsp;</span>Define:</a></span></li><li><span><a href=\"#Code-:\" data-toc-modified-id=\"Code-:-5.2.2\"><span class=\"toc-item-num\">5.2.2&nbsp;&nbsp;</span>Code :</a></span></li><li><span><a href=\"#Test\" data-toc-modified-id=\"Test-5.2.3\"><span class=\"toc-item-num\">5.2.3&nbsp;&nbsp;</span>Test</a></span></li></ul></li><li><span><a href=\"#Tweet-json-data\" data-toc-modified-id=\"Tweet-json-data-5.3\"><span class=\"toc-item-num\">5.3&nbsp;&nbsp;</span>Tweet-json data</a></span><ul class=\"toc-item\"><li><span><a href=\"#Define:\" data-toc-modified-id=\"Define:-5.3.1\"><span class=\"toc-item-num\">5.3.1&nbsp;&nbsp;</span>Define:</a></span></li><li><span><a href=\"#Code:\" data-toc-modified-id=\"Code:-5.3.2\"><span class=\"toc-item-num\">5.3.2&nbsp;&nbsp;</span>Code:</a></span></li><li><span><a href=\"#Test:\" data-toc-modified-id=\"Test:-5.3.3\"><span class=\"toc-item-num\">5.3.3&nbsp;&nbsp;</span>Test:</a></span></li></ul></li><li><span><a href=\"#Merging-the-data-frames-into-a-single-table,-a-tidiness-issue\" data-toc-modified-id=\"Merging-the-data-frames-into-a-single-table,-a-tidiness-issue-5.4\"><span class=\"toc-item-num\">5.4&nbsp;&nbsp;</span>Merging the data frames into a single table, a tidiness issue</a></span></li></ul></li><li><span><a href=\"#Analysis--and-visualization\" data-toc-modified-id=\"Analysis--and-visualization-6\"><span class=\"toc-item-num\">6&nbsp;&nbsp;</span>Analysis  and visualization</a></span><ul class=\"toc-item\"><li><span><a href=\"#Which-prediction-algorithm-was-the-most-successful-in-identifying-wether-the-animal-was-a-dog-or-not?\" data-toc-modified-id=\"Which-prediction-algorithm-was-the-most-successful-in-identifying-wether-the-animal-was-a-dog-or-not?-6.1\"><span class=\"toc-item-num\">6.1&nbsp;&nbsp;</span>Which prediction algorithm was the most successful in identifying wether the animal was a dog or not?</a></span></li><li><span><a href=\"#Storing-the-DataFrame-into-csv-file\" data-toc-modified-id=\"Storing-the-DataFrame-into-csv-file-6.2\"><span class=\"toc-item-num\">6.2&nbsp;&nbsp;</span>Storing the DataFrame into csv file</a></span></li></ul></li></ul></div>"
   ]
  },
  {
   "cell_type": "markdown",
   "metadata": {},
   "source": [
    "# Data Wrangling Project "
   ]
  },
  {
   "cell_type": "markdown",
   "metadata": {},
   "source": [
    "\n",
    "\n",
    "\n"
   ]
  },
  {
   "cell_type": "markdown",
   "metadata": {},
   "source": [
    "## Project Description "
   ]
  },
  {
   "cell_type": "markdown",
   "metadata": {},
   "source": [
    "This is a data wrangling project on the datasets from the twitter account [WeRateDogs](https://twitter.com/dog_rates). There are three datasets used in this roject namely twitter_archive_enhanced.csv and mage_prediction.tsv\n",
    "[link](https://d17h27t6h515a5.cloudfront.net/topher/2017/August/599fd2ad_image-predictions/image-predictions.tsv) and the tweet_json.txt which is obtained from the Twitter API.\n",
    "The data wrangling of this project begins with data gathering followed by assessment and cleaning. Later, the datasets are analysed and visualised and finally merged into a single dataset and tored as a csv file."
   ]
  },
  {
   "cell_type": "code",
   "execution_count": 93,
   "metadata": {},
   "outputs": [
    {
     "name": "stderr",
     "output_type": "stream",
     "text": [
      "C:\\Users\\Teklehaimanot\\AppData\\Local\\Temp\\ipykernel_23292\\893817658.py:3: DeprecationWarning: Importing display from IPython.core.display is deprecated since IPython 7.14, please import from IPython display\n",
      "  from IPython.core.display import display, HTML\n"
     ]
    },
    {
     "data": {
      "text/html": [
       "<style>.container { width:89% !important; }</style>"
      ],
      "text/plain": [
       "<IPython.core.display.HTML object>"
      ]
     },
     "metadata": {},
     "output_type": "display_data"
    }
   ],
   "source": [
    "# Control the width of the Jupyternotebook cell\n",
    "\n",
    "from IPython.core.display import display, HTML\n",
    "\n",
    "display(HTML(\"<style>.container { width:89% !important; }</style>\"))\n"
   ]
  },
  {
   "cell_type": "markdown",
   "metadata": {},
   "source": [
    "##  Importing python packages"
   ]
  },
  {
   "cell_type": "code",
   "execution_count": 94,
   "metadata": {},
   "outputs": [],
   "source": [
    "# Relevant libraries to work on this project\n",
    "import os                       # To interact with file directories \n",
    "import zipfile                  # To download zip files from website\n",
    "import json                     # To read and write json files \n",
    "import requests                 # To access URl \n",
    "import pandas as pd             # To read, manupilate and analyse data \n",
    "import numpy as np              # For linear algebra operation\n",
    "import matplotlib.pyplot as plt # To plot "
   ]
  },
  {
   "cell_type": "markdown",
   "metadata": {},
   "source": [
    "## Gathering Data "
   ]
  },
  {
   "cell_type": "markdown",
   "metadata": {},
   "source": [
    "This includes downloading datastes from the Udacity website and downloading programmitically from the interent ( which internet?)retrieving data from the internet and downloading programmatically into local directory. Then accessing the data from the current directory for farther investigation of the datasets."
   ]
  },
  {
   "cell_type": "markdown",
   "metadata": {},
   "source": [
    "### Reading image predctions"
   ]
  },
  {
   "cell_type": "code",
   "execution_count": 95,
   "metadata": {},
   "outputs": [],
   "source": [
    "def gather_data(path,url):\n",
    "    \n",
    "    ''' This function downloads a url file into the current directory'''\n",
    "    \n",
    "    filename = url.split(\"/\")[-1]                                 # Take the filename from the url of the data\n",
    "    response = requests.get(url)\n",
    "    \n",
    "    with open(os.path.join(path,filename), \"wb\") as file_object:  # Writing the data into csv \n",
    "        \n",
    "        file_object.write(response.content) \n",
    "        \n",
    "    if response.status_code == 200:                                #Checking if the data was retrieved from website or not\n",
    "        \n",
    "        return (f\"{response.status_code} is an indication that the data was retrieved well!\")\n",
    "\n",
    "    \n",
    "    else:\n",
    "        return \"There is something error\""
   ]
  },
  {
   "cell_type": "code",
   "execution_count": 96,
   "metadata": {},
   "outputs": [
    {
     "data": {
      "text/plain": [
       "'200 is an indication that the data was retrieved well!'"
      ]
     },
     "execution_count": 96,
     "metadata": {},
     "output_type": "execute_result"
    }
   ],
   "source": [
    "# Function parameters:\n",
    "\n",
    "url_image = \"https://d17h27t6h515a5.cloudfront.net/topher/2017/August/599fd2ad_image-predictions/image-predictions.tsv\"\n",
    "path_raw = \"../data/raw_data\"\n",
    "\n",
    "\n",
    "#Calling a function:\n",
    "\n",
    "gather_data(path = path_raw, url = url_image)"
   ]
  },
  {
   "cell_type": "code",
   "execution_count": 97,
   "metadata": {},
   "outputs": [],
   "source": [
    "def read_tsv_file(path, filename):\n",
    "    \n",
    "    ''' Thus function reads the image_prections.tsv file which was downloaded by the downloading_file function and returns a pandas DataFrame'''\n",
    "    \n",
    "    with open(os.path.join(path, filename), \"r\") as f:\n",
    "        \n",
    "        \n",
    "        df = pd.read_csv(f, sep = \"\\t\")\n",
    "    \n",
    "    return df"
   ]
  },
  {
   "cell_type": "code",
   "execution_count": 98,
   "metadata": {},
   "outputs": [],
   "source": [
    "path_raw = r\"..\\data\\raw_data\"\n",
    "\n",
    "if __name__ == \"__main__\":\n",
    "    \n",
    "    for file  in os.listdir(path_raw):\n",
    "        \n",
    "        if file.endswith(\"tsv\"):\n",
    "            \n",
    "            image_predictions_df = read_tsv_file(path = path_raw, filename = file )\n",
    "            \n",
    "image_predictions_clean = image_predictions_df.copy()         "
   ]
  },
  {
   "cell_type": "code",
   "execution_count": 99,
   "metadata": {},
   "outputs": [
    {
     "data": {
      "text/html": [
       "<div>\n",
       "<style scoped>\n",
       "    .dataframe tbody tr th:only-of-type {\n",
       "        vertical-align: middle;\n",
       "    }\n",
       "\n",
       "    .dataframe tbody tr th {\n",
       "        vertical-align: top;\n",
       "    }\n",
       "\n",
       "    .dataframe thead th {\n",
       "        text-align: right;\n",
       "    }\n",
       "</style>\n",
       "<table border=\"1\" class=\"dataframe\">\n",
       "  <thead>\n",
       "    <tr style=\"text-align: right;\">\n",
       "      <th></th>\n",
       "      <th>tweet_id</th>\n",
       "      <th>jpg_url</th>\n",
       "      <th>img_num</th>\n",
       "      <th>p1</th>\n",
       "      <th>p1_conf</th>\n",
       "      <th>p1_dog</th>\n",
       "      <th>p2</th>\n",
       "      <th>p2_conf</th>\n",
       "      <th>p2_dog</th>\n",
       "      <th>p3</th>\n",
       "      <th>p3_conf</th>\n",
       "      <th>p3_dog</th>\n",
       "    </tr>\n",
       "  </thead>\n",
       "  <tbody>\n",
       "    <tr>\n",
       "      <th>0</th>\n",
       "      <td>666020888022790149</td>\n",
       "      <td>https://pbs.twimg.com/media/CT4udn0WwAA0aMy.jpg</td>\n",
       "      <td>1</td>\n",
       "      <td>Welsh_springer_spaniel</td>\n",
       "      <td>0.465074</td>\n",
       "      <td>True</td>\n",
       "      <td>collie</td>\n",
       "      <td>0.156665</td>\n",
       "      <td>True</td>\n",
       "      <td>Shetland_sheepdog</td>\n",
       "      <td>0.061428</td>\n",
       "      <td>True</td>\n",
       "    </tr>\n",
       "    <tr>\n",
       "      <th>1</th>\n",
       "      <td>666029285002620928</td>\n",
       "      <td>https://pbs.twimg.com/media/CT42GRgUYAA5iDo.jpg</td>\n",
       "      <td>1</td>\n",
       "      <td>redbone</td>\n",
       "      <td>0.506826</td>\n",
       "      <td>True</td>\n",
       "      <td>miniature_pinscher</td>\n",
       "      <td>0.074192</td>\n",
       "      <td>True</td>\n",
       "      <td>Rhodesian_ridgeback</td>\n",
       "      <td>0.072010</td>\n",
       "      <td>True</td>\n",
       "    </tr>\n",
       "    <tr>\n",
       "      <th>2</th>\n",
       "      <td>666033412701032449</td>\n",
       "      <td>https://pbs.twimg.com/media/CT4521TWwAEvMyu.jpg</td>\n",
       "      <td>1</td>\n",
       "      <td>German_shepherd</td>\n",
       "      <td>0.596461</td>\n",
       "      <td>True</td>\n",
       "      <td>malinois</td>\n",
       "      <td>0.138584</td>\n",
       "      <td>True</td>\n",
       "      <td>bloodhound</td>\n",
       "      <td>0.116197</td>\n",
       "      <td>True</td>\n",
       "    </tr>\n",
       "    <tr>\n",
       "      <th>3</th>\n",
       "      <td>666044226329800704</td>\n",
       "      <td>https://pbs.twimg.com/media/CT5Dr8HUEAA-lEu.jpg</td>\n",
       "      <td>1</td>\n",
       "      <td>Rhodesian_ridgeback</td>\n",
       "      <td>0.408143</td>\n",
       "      <td>True</td>\n",
       "      <td>redbone</td>\n",
       "      <td>0.360687</td>\n",
       "      <td>True</td>\n",
       "      <td>miniature_pinscher</td>\n",
       "      <td>0.222752</td>\n",
       "      <td>True</td>\n",
       "    </tr>\n",
       "    <tr>\n",
       "      <th>4</th>\n",
       "      <td>666049248165822465</td>\n",
       "      <td>https://pbs.twimg.com/media/CT5IQmsXIAAKY4A.jpg</td>\n",
       "      <td>1</td>\n",
       "      <td>miniature_pinscher</td>\n",
       "      <td>0.560311</td>\n",
       "      <td>True</td>\n",
       "      <td>Rottweiler</td>\n",
       "      <td>0.243682</td>\n",
       "      <td>True</td>\n",
       "      <td>Doberman</td>\n",
       "      <td>0.154629</td>\n",
       "      <td>True</td>\n",
       "    </tr>\n",
       "  </tbody>\n",
       "</table>\n",
       "</div>"
      ],
      "text/plain": [
       "             tweet_id                                          jpg_url  \\\n",
       "0  666020888022790149  https://pbs.twimg.com/media/CT4udn0WwAA0aMy.jpg   \n",
       "1  666029285002620928  https://pbs.twimg.com/media/CT42GRgUYAA5iDo.jpg   \n",
       "2  666033412701032449  https://pbs.twimg.com/media/CT4521TWwAEvMyu.jpg   \n",
       "3  666044226329800704  https://pbs.twimg.com/media/CT5Dr8HUEAA-lEu.jpg   \n",
       "4  666049248165822465  https://pbs.twimg.com/media/CT5IQmsXIAAKY4A.jpg   \n",
       "\n",
       "   img_num                      p1   p1_conf  p1_dog                  p2  \\\n",
       "0        1  Welsh_springer_spaniel  0.465074    True              collie   \n",
       "1        1                 redbone  0.506826    True  miniature_pinscher   \n",
       "2        1         German_shepherd  0.596461    True            malinois   \n",
       "3        1     Rhodesian_ridgeback  0.408143    True             redbone   \n",
       "4        1      miniature_pinscher  0.560311    True          Rottweiler   \n",
       "\n",
       "    p2_conf  p2_dog                   p3   p3_conf  p3_dog  \n",
       "0  0.156665    True    Shetland_sheepdog  0.061428    True  \n",
       "1  0.074192    True  Rhodesian_ridgeback  0.072010    True  \n",
       "2  0.138584    True           bloodhound  0.116197    True  \n",
       "3  0.360687    True   miniature_pinscher  0.222752    True  \n",
       "4  0.243682    True             Doberman  0.154629    True  "
      ]
     },
     "execution_count": 99,
     "metadata": {},
     "output_type": "execute_result"
    }
   ],
   "source": [
    "image_predictions_clean.head()"
   ]
  },
  {
   "cell_type": "markdown",
   "metadata": {},
   "source": [
    "### Reading twitter_archive_enhanced data"
   ]
  },
  {
   "cell_type": "code",
   "execution_count": 100,
   "metadata": {},
   "outputs": [],
   "source": [
    "def reading_csv_files(path, file):\n",
    "    \n",
    "    ''' This functions reads a csv file and returns a pandas DataFrame of that file'''\n",
    "    \n",
    "    with open(os.path.join(path,file), \"r\", encoding = \"utf-8\") as file_object:\n",
    "         \n",
    "        df = pd.read_csv(file_object, sep = \",\")\n",
    "        \n",
    "    return df\n"
   ]
  },
  {
   "cell_type": "code",
   "execution_count": 101,
   "metadata": {},
   "outputs": [],
   "source": [
    "path_raw = r\"..\\data\\raw_data\"\n",
    "\n",
    "if __name__==\"__main__\":\n",
    "    \n",
    "    for filename in os.listdir(path_raw):\n",
    "        \n",
    "        if filename.endswith(\"enhanced.csv\"):\n",
    "            \n",
    "            twitter_archive_df = reading_csv_files(path = path_raw, file = filename)\n",
    "\n",
    "twitter_archive_clean = twitter_archive_df.copy()"
   ]
  },
  {
   "cell_type": "code",
   "execution_count": 102,
   "metadata": {},
   "outputs": [
    {
     "data": {
      "text/html": [
       "<div>\n",
       "<style scoped>\n",
       "    .dataframe tbody tr th:only-of-type {\n",
       "        vertical-align: middle;\n",
       "    }\n",
       "\n",
       "    .dataframe tbody tr th {\n",
       "        vertical-align: top;\n",
       "    }\n",
       "\n",
       "    .dataframe thead th {\n",
       "        text-align: right;\n",
       "    }\n",
       "</style>\n",
       "<table border=\"1\" class=\"dataframe\">\n",
       "  <thead>\n",
       "    <tr style=\"text-align: right;\">\n",
       "      <th></th>\n",
       "      <th>tweet_id</th>\n",
       "      <th>in_reply_to_status_id</th>\n",
       "      <th>in_reply_to_user_id</th>\n",
       "      <th>timestamp</th>\n",
       "      <th>source</th>\n",
       "      <th>text</th>\n",
       "      <th>retweeted_status_id</th>\n",
       "      <th>retweeted_status_user_id</th>\n",
       "      <th>retweeted_status_timestamp</th>\n",
       "      <th>expanded_urls</th>\n",
       "      <th>rating_numerator</th>\n",
       "      <th>rating_denominator</th>\n",
       "      <th>name</th>\n",
       "      <th>doggo</th>\n",
       "      <th>floofer</th>\n",
       "      <th>pupper</th>\n",
       "      <th>puppo</th>\n",
       "    </tr>\n",
       "  </thead>\n",
       "  <tbody>\n",
       "    <tr>\n",
       "      <th>0</th>\n",
       "      <td>892420643555336193</td>\n",
       "      <td>NaN</td>\n",
       "      <td>NaN</td>\n",
       "      <td>2017-08-01 16:23:56 +0000</td>\n",
       "      <td>&lt;a href=\"http://twitter.com/download/iphone\" r...</td>\n",
       "      <td>This is Phineas. He's a mystical boy. Only eve...</td>\n",
       "      <td>NaN</td>\n",
       "      <td>NaN</td>\n",
       "      <td>NaN</td>\n",
       "      <td>https://twitter.com/dog_rates/status/892420643...</td>\n",
       "      <td>13</td>\n",
       "      <td>10</td>\n",
       "      <td>Phineas</td>\n",
       "      <td>None</td>\n",
       "      <td>None</td>\n",
       "      <td>None</td>\n",
       "      <td>None</td>\n",
       "    </tr>\n",
       "    <tr>\n",
       "      <th>1</th>\n",
       "      <td>892177421306343426</td>\n",
       "      <td>NaN</td>\n",
       "      <td>NaN</td>\n",
       "      <td>2017-08-01 00:17:27 +0000</td>\n",
       "      <td>&lt;a href=\"http://twitter.com/download/iphone\" r...</td>\n",
       "      <td>This is Tilly. She's just checking pup on you....</td>\n",
       "      <td>NaN</td>\n",
       "      <td>NaN</td>\n",
       "      <td>NaN</td>\n",
       "      <td>https://twitter.com/dog_rates/status/892177421...</td>\n",
       "      <td>13</td>\n",
       "      <td>10</td>\n",
       "      <td>Tilly</td>\n",
       "      <td>None</td>\n",
       "      <td>None</td>\n",
       "      <td>None</td>\n",
       "      <td>None</td>\n",
       "    </tr>\n",
       "    <tr>\n",
       "      <th>2</th>\n",
       "      <td>891815181378084864</td>\n",
       "      <td>NaN</td>\n",
       "      <td>NaN</td>\n",
       "      <td>2017-07-31 00:18:03 +0000</td>\n",
       "      <td>&lt;a href=\"http://twitter.com/download/iphone\" r...</td>\n",
       "      <td>This is Archie. He is a rare Norwegian Pouncin...</td>\n",
       "      <td>NaN</td>\n",
       "      <td>NaN</td>\n",
       "      <td>NaN</td>\n",
       "      <td>https://twitter.com/dog_rates/status/891815181...</td>\n",
       "      <td>12</td>\n",
       "      <td>10</td>\n",
       "      <td>Archie</td>\n",
       "      <td>None</td>\n",
       "      <td>None</td>\n",
       "      <td>None</td>\n",
       "      <td>None</td>\n",
       "    </tr>\n",
       "  </tbody>\n",
       "</table>\n",
       "</div>"
      ],
      "text/plain": [
       "             tweet_id  in_reply_to_status_id  in_reply_to_user_id  \\\n",
       "0  892420643555336193                    NaN                  NaN   \n",
       "1  892177421306343426                    NaN                  NaN   \n",
       "2  891815181378084864                    NaN                  NaN   \n",
       "\n",
       "                   timestamp  \\\n",
       "0  2017-08-01 16:23:56 +0000   \n",
       "1  2017-08-01 00:17:27 +0000   \n",
       "2  2017-07-31 00:18:03 +0000   \n",
       "\n",
       "                                              source  \\\n",
       "0  <a href=\"http://twitter.com/download/iphone\" r...   \n",
       "1  <a href=\"http://twitter.com/download/iphone\" r...   \n",
       "2  <a href=\"http://twitter.com/download/iphone\" r...   \n",
       "\n",
       "                                                text  retweeted_status_id  \\\n",
       "0  This is Phineas. He's a mystical boy. Only eve...                  NaN   \n",
       "1  This is Tilly. She's just checking pup on you....                  NaN   \n",
       "2  This is Archie. He is a rare Norwegian Pouncin...                  NaN   \n",
       "\n",
       "   retweeted_status_user_id retweeted_status_timestamp  \\\n",
       "0                       NaN                        NaN   \n",
       "1                       NaN                        NaN   \n",
       "2                       NaN                        NaN   \n",
       "\n",
       "                                       expanded_urls  rating_numerator  \\\n",
       "0  https://twitter.com/dog_rates/status/892420643...                13   \n",
       "1  https://twitter.com/dog_rates/status/892177421...                13   \n",
       "2  https://twitter.com/dog_rates/status/891815181...                12   \n",
       "\n",
       "   rating_denominator     name doggo floofer pupper puppo  \n",
       "0                  10  Phineas  None    None   None  None  \n",
       "1                  10    Tilly  None    None   None  None  \n",
       "2                  10   Archie  None    None   None  None  "
      ]
     },
     "execution_count": 102,
     "metadata": {},
     "output_type": "execute_result"
    }
   ],
   "source": [
    "twitter_archive_clean.head(3)"
   ]
  },
  {
   "cell_type": "markdown",
   "metadata": {},
   "source": [
    "### Reading tweet-json.txt data"
   ]
  },
  {
   "cell_type": "code",
   "execution_count": 103,
   "metadata": {},
   "outputs": [],
   "source": [
    "\n",
    "def reading_txt_files(path, filename):\n",
    "    \n",
    "    ''' This functions reads a txt file and returns a pandas DataFrame of that file'''\n",
    "\n",
    "    data= []\n",
    "    with open(os.path.join(path,filename), \"r\", encoding = \"utf-8\") as file_object:\n",
    "    \n",
    "        for line in file_object:\n",
    "            \n",
    "            data.append(json.loads(line))\n",
    "\n",
    "    return data\n",
    "\n",
    "path_raw = r\"..\\data\\raw_data\"\n",
    "if __name__==\"__main__\":\n",
    "    \n",
    "    \n",
    "    for file in os.listdir(path_raw):\n",
    "        \n",
    "        if file.endswith(\"json.txt\"):\n",
    "            tweet = reading_txt_files(path = path_raw, filename = file)\n",
    "            \n",
    "            x = \"03_tweet-json.txt\"\n",
    "\n",
    "\n",
    "data_dict = { \"id\":[], \"retweet_count\":[], \"favorite_count\": [], \"lang\":[], \"followers_count\":[]}\n",
    "\n",
    "for  data in tweet:\n",
    "    \n",
    "    data_dict[\"id\"].append(data[\"id\"])\n",
    "    data_dict[\"retweet_count\"].append(data[\"retweet_count\"])\n",
    "    data_dict[\"favorite_count\"].append(data[\"favorite_count\"])\n",
    "    data_dict[\"lang\"].append(data[\"lang\"])\n",
    "    data_dict[\"followers_count\"].append(data[\"user\"][\"followers_count\"])\n",
    "\n",
    "tweet_df = pd.DataFrame(data_dict, index = [i for i in range(len(data_dict[\"id\"]))])   \n",
    "\n",
    "tweet_json_clean = tweet_df.copy()"
   ]
  },
  {
   "cell_type": "code",
   "execution_count": 104,
   "metadata": {},
   "outputs": [
    {
     "data": {
      "text/html": [
       "<div>\n",
       "<style scoped>\n",
       "    .dataframe tbody tr th:only-of-type {\n",
       "        vertical-align: middle;\n",
       "    }\n",
       "\n",
       "    .dataframe tbody tr th {\n",
       "        vertical-align: top;\n",
       "    }\n",
       "\n",
       "    .dataframe thead th {\n",
       "        text-align: right;\n",
       "    }\n",
       "</style>\n",
       "<table border=\"1\" class=\"dataframe\">\n",
       "  <thead>\n",
       "    <tr style=\"text-align: right;\">\n",
       "      <th></th>\n",
       "      <th>id</th>\n",
       "      <th>retweet_count</th>\n",
       "      <th>favorite_count</th>\n",
       "      <th>lang</th>\n",
       "      <th>followers_count</th>\n",
       "    </tr>\n",
       "  </thead>\n",
       "  <tbody>\n",
       "    <tr>\n",
       "      <th>0</th>\n",
       "      <td>892420643555336193</td>\n",
       "      <td>8853</td>\n",
       "      <td>39467</td>\n",
       "      <td>en</td>\n",
       "      <td>3200889</td>\n",
       "    </tr>\n",
       "    <tr>\n",
       "      <th>1</th>\n",
       "      <td>892177421306343426</td>\n",
       "      <td>6514</td>\n",
       "      <td>33819</td>\n",
       "      <td>en</td>\n",
       "      <td>3200889</td>\n",
       "    </tr>\n",
       "    <tr>\n",
       "      <th>2</th>\n",
       "      <td>891815181378084864</td>\n",
       "      <td>4328</td>\n",
       "      <td>25461</td>\n",
       "      <td>en</td>\n",
       "      <td>3200889</td>\n",
       "    </tr>\n",
       "    <tr>\n",
       "      <th>3</th>\n",
       "      <td>891689557279858688</td>\n",
       "      <td>8964</td>\n",
       "      <td>42908</td>\n",
       "      <td>en</td>\n",
       "      <td>3200889</td>\n",
       "    </tr>\n",
       "    <tr>\n",
       "      <th>4</th>\n",
       "      <td>891327558926688256</td>\n",
       "      <td>9774</td>\n",
       "      <td>41048</td>\n",
       "      <td>en</td>\n",
       "      <td>3200889</td>\n",
       "    </tr>\n",
       "  </tbody>\n",
       "</table>\n",
       "</div>"
      ],
      "text/plain": [
       "                   id  retweet_count  favorite_count lang  followers_count\n",
       "0  892420643555336193           8853           39467   en          3200889\n",
       "1  892177421306343426           6514           33819   en          3200889\n",
       "2  891815181378084864           4328           25461   en          3200889\n",
       "3  891689557279858688           8964           42908   en          3200889\n",
       "4  891327558926688256           9774           41048   en          3200889"
      ]
     },
     "execution_count": 104,
     "metadata": {},
     "output_type": "execute_result"
    }
   ],
   "source": [
    "tweet_json_clean.head()"
   ]
  },
  {
   "cell_type": "code",
   "execution_count": 105,
   "metadata": {},
   "outputs": [],
   "source": [
    "#tweet_clean.groupby(\"followers_count\")[\"lang\"].value_counts().sort_values(ascending = False)/tweet_clean.shape[0]"
   ]
  },
  {
   "cell_type": "markdown",
   "metadata": {},
   "source": [
    "##  Assessing data "
   ]
  },
  {
   "cell_type": "markdown",
   "metadata": {},
   "source": [
    "###  Image_predictions data:"
   ]
  },
  {
   "cell_type": "code",
   "execution_count": 106,
   "metadata": {},
   "outputs": [
    {
     "data": {
      "text/html": [
       "<div>\n",
       "<style scoped>\n",
       "    .dataframe tbody tr th:only-of-type {\n",
       "        vertical-align: middle;\n",
       "    }\n",
       "\n",
       "    .dataframe tbody tr th {\n",
       "        vertical-align: top;\n",
       "    }\n",
       "\n",
       "    .dataframe thead th {\n",
       "        text-align: right;\n",
       "    }\n",
       "</style>\n",
       "<table border=\"1\" class=\"dataframe\">\n",
       "  <thead>\n",
       "    <tr style=\"text-align: right;\">\n",
       "      <th></th>\n",
       "      <th>tweet_id</th>\n",
       "      <th>jpg_url</th>\n",
       "      <th>img_num</th>\n",
       "      <th>p1</th>\n",
       "      <th>p1_conf</th>\n",
       "      <th>p1_dog</th>\n",
       "      <th>p2</th>\n",
       "      <th>p2_conf</th>\n",
       "      <th>p2_dog</th>\n",
       "      <th>p3</th>\n",
       "      <th>p3_conf</th>\n",
       "      <th>p3_dog</th>\n",
       "    </tr>\n",
       "  </thead>\n",
       "  <tbody>\n",
       "    <tr>\n",
       "      <th>0</th>\n",
       "      <td>666020888022790149</td>\n",
       "      <td>https://pbs.twimg.com/media/CT4udn0WwAA0aMy.jpg</td>\n",
       "      <td>1</td>\n",
       "      <td>Welsh_springer_spaniel</td>\n",
       "      <td>0.465074</td>\n",
       "      <td>True</td>\n",
       "      <td>collie</td>\n",
       "      <td>0.156665</td>\n",
       "      <td>True</td>\n",
       "      <td>Shetland_sheepdog</td>\n",
       "      <td>0.061428</td>\n",
       "      <td>True</td>\n",
       "    </tr>\n",
       "    <tr>\n",
       "      <th>1</th>\n",
       "      <td>666029285002620928</td>\n",
       "      <td>https://pbs.twimg.com/media/CT42GRgUYAA5iDo.jpg</td>\n",
       "      <td>1</td>\n",
       "      <td>redbone</td>\n",
       "      <td>0.506826</td>\n",
       "      <td>True</td>\n",
       "      <td>miniature_pinscher</td>\n",
       "      <td>0.074192</td>\n",
       "      <td>True</td>\n",
       "      <td>Rhodesian_ridgeback</td>\n",
       "      <td>0.072010</td>\n",
       "      <td>True</td>\n",
       "    </tr>\n",
       "    <tr>\n",
       "      <th>2</th>\n",
       "      <td>666033412701032449</td>\n",
       "      <td>https://pbs.twimg.com/media/CT4521TWwAEvMyu.jpg</td>\n",
       "      <td>1</td>\n",
       "      <td>German_shepherd</td>\n",
       "      <td>0.596461</td>\n",
       "      <td>True</td>\n",
       "      <td>malinois</td>\n",
       "      <td>0.138584</td>\n",
       "      <td>True</td>\n",
       "      <td>bloodhound</td>\n",
       "      <td>0.116197</td>\n",
       "      <td>True</td>\n",
       "    </tr>\n",
       "  </tbody>\n",
       "</table>\n",
       "</div>"
      ],
      "text/plain": [
       "             tweet_id                                          jpg_url  \\\n",
       "0  666020888022790149  https://pbs.twimg.com/media/CT4udn0WwAA0aMy.jpg   \n",
       "1  666029285002620928  https://pbs.twimg.com/media/CT42GRgUYAA5iDo.jpg   \n",
       "2  666033412701032449  https://pbs.twimg.com/media/CT4521TWwAEvMyu.jpg   \n",
       "\n",
       "   img_num                      p1   p1_conf  p1_dog                  p2  \\\n",
       "0        1  Welsh_springer_spaniel  0.465074    True              collie   \n",
       "1        1                 redbone  0.506826    True  miniature_pinscher   \n",
       "2        1         German_shepherd  0.596461    True            malinois   \n",
       "\n",
       "    p2_conf  p2_dog                   p3   p3_conf  p3_dog  \n",
       "0  0.156665    True    Shetland_sheepdog  0.061428    True  \n",
       "1  0.074192    True  Rhodesian_ridgeback  0.072010    True  \n",
       "2  0.138584    True           bloodhound  0.116197    True  "
      ]
     },
     "execution_count": 106,
     "metadata": {},
     "output_type": "execute_result"
    }
   ],
   "source": [
    "image_predictions_clean.head(3)  # The column names are not descriptive which is a quality issue."
   ]
  },
  {
   "cell_type": "code",
   "execution_count": 107,
   "metadata": {},
   "outputs": [
    {
     "data": {
      "text/html": [
       "<div>\n",
       "<style scoped>\n",
       "    .dataframe tbody tr th:only-of-type {\n",
       "        vertical-align: middle;\n",
       "    }\n",
       "\n",
       "    .dataframe tbody tr th {\n",
       "        vertical-align: top;\n",
       "    }\n",
       "\n",
       "    .dataframe thead th {\n",
       "        text-align: right;\n",
       "    }\n",
       "</style>\n",
       "<table border=\"1\" class=\"dataframe\">\n",
       "  <thead>\n",
       "    <tr style=\"text-align: right;\">\n",
       "      <th></th>\n",
       "      <th>tweet_id</th>\n",
       "      <th>jpg_url</th>\n",
       "      <th>img_num</th>\n",
       "      <th>p1</th>\n",
       "      <th>p1_conf</th>\n",
       "      <th>p1_dog</th>\n",
       "      <th>p2</th>\n",
       "      <th>p2_conf</th>\n",
       "      <th>p2_dog</th>\n",
       "      <th>p3</th>\n",
       "      <th>p3_conf</th>\n",
       "      <th>p3_dog</th>\n",
       "    </tr>\n",
       "  </thead>\n",
       "  <tbody>\n",
       "    <tr>\n",
       "      <th>2072</th>\n",
       "      <td>891815181378084864</td>\n",
       "      <td>https://pbs.twimg.com/media/DGBdLU1WsAANxJ9.jpg</td>\n",
       "      <td>1</td>\n",
       "      <td>Chihuahua</td>\n",
       "      <td>0.716012</td>\n",
       "      <td>True</td>\n",
       "      <td>malamute</td>\n",
       "      <td>0.078253</td>\n",
       "      <td>True</td>\n",
       "      <td>kelpie</td>\n",
       "      <td>0.031379</td>\n",
       "      <td>True</td>\n",
       "    </tr>\n",
       "    <tr>\n",
       "      <th>2073</th>\n",
       "      <td>892177421306343426</td>\n",
       "      <td>https://pbs.twimg.com/media/DGGmoV4XsAAUL6n.jpg</td>\n",
       "      <td>1</td>\n",
       "      <td>Chihuahua</td>\n",
       "      <td>0.323581</td>\n",
       "      <td>True</td>\n",
       "      <td>Pekinese</td>\n",
       "      <td>0.090647</td>\n",
       "      <td>True</td>\n",
       "      <td>papillon</td>\n",
       "      <td>0.068957</td>\n",
       "      <td>True</td>\n",
       "    </tr>\n",
       "    <tr>\n",
       "      <th>2074</th>\n",
       "      <td>892420643555336193</td>\n",
       "      <td>https://pbs.twimg.com/media/DGKD1-bXoAAIAUK.jpg</td>\n",
       "      <td>1</td>\n",
       "      <td>orange</td>\n",
       "      <td>0.097049</td>\n",
       "      <td>False</td>\n",
       "      <td>bagel</td>\n",
       "      <td>0.085851</td>\n",
       "      <td>False</td>\n",
       "      <td>banana</td>\n",
       "      <td>0.076110</td>\n",
       "      <td>False</td>\n",
       "    </tr>\n",
       "  </tbody>\n",
       "</table>\n",
       "</div>"
      ],
      "text/plain": [
       "                tweet_id                                          jpg_url  \\\n",
       "2072  891815181378084864  https://pbs.twimg.com/media/DGBdLU1WsAANxJ9.jpg   \n",
       "2073  892177421306343426  https://pbs.twimg.com/media/DGGmoV4XsAAUL6n.jpg   \n",
       "2074  892420643555336193  https://pbs.twimg.com/media/DGKD1-bXoAAIAUK.jpg   \n",
       "\n",
       "      img_num         p1   p1_conf  p1_dog        p2   p2_conf  p2_dog  \\\n",
       "2072        1  Chihuahua  0.716012    True  malamute  0.078253    True   \n",
       "2073        1  Chihuahua  0.323581    True  Pekinese  0.090647    True   \n",
       "2074        1     orange  0.097049   False     bagel  0.085851   False   \n",
       "\n",
       "            p3   p3_conf  p3_dog  \n",
       "2072    kelpie  0.031379    True  \n",
       "2073  papillon  0.068957    True  \n",
       "2074    banana  0.076110   False  "
      ]
     },
     "execution_count": 107,
     "metadata": {},
     "output_type": "execute_result"
    }
   ],
   "source": [
    "image_predictions_clean.tail(3)"
   ]
  },
  {
   "cell_type": "markdown",
   "metadata": {},
   "source": [
    "#### Quality issues "
   ]
  },
  {
   "cell_type": "code",
   "execution_count": 108,
   "metadata": {},
   "outputs": [
    {
     "name": "stdout",
     "output_type": "stream",
     "text": [
      "<class 'pandas.core.frame.DataFrame'>\n",
      "RangeIndex: 2075 entries, 0 to 2074\n",
      "Data columns (total 12 columns):\n",
      " #   Column    Non-Null Count  Dtype  \n",
      "---  ------    --------------  -----  \n",
      " 0   tweet_id  2075 non-null   int64  \n",
      " 1   jpg_url   2075 non-null   object \n",
      " 2   img_num   2075 non-null   int64  \n",
      " 3   p1        2075 non-null   object \n",
      " 4   p1_conf   2075 non-null   float64\n",
      " 5   p1_dog    2075 non-null   bool   \n",
      " 6   p2        2075 non-null   object \n",
      " 7   p2_conf   2075 non-null   float64\n",
      " 8   p2_dog    2075 non-null   bool   \n",
      " 9   p3        2075 non-null   object \n",
      " 10  p3_conf   2075 non-null   float64\n",
      " 11  p3_dog    2075 non-null   bool   \n",
      "dtypes: bool(3), float64(3), int64(2), object(4)\n",
      "memory usage: 152.1+ KB\n"
     ]
    }
   ],
   "source": [
    "# Check for the data type:\n",
    "image_predictions_clean.info()"
   ]
  },
  {
   "cell_type": "code",
   "execution_count": 109,
   "metadata": {},
   "outputs": [
    {
     "data": {
      "text/html": [
       "<div>\n",
       "<style scoped>\n",
       "    .dataframe tbody tr th:only-of-type {\n",
       "        vertical-align: middle;\n",
       "    }\n",
       "\n",
       "    .dataframe tbody tr th {\n",
       "        vertical-align: top;\n",
       "    }\n",
       "\n",
       "    .dataframe thead th {\n",
       "        text-align: right;\n",
       "    }\n",
       "</style>\n",
       "<table border=\"1\" class=\"dataframe\">\n",
       "  <thead>\n",
       "    <tr style=\"text-align: right;\">\n",
       "      <th></th>\n",
       "      <th>tweet_id</th>\n",
       "      <th>jpg_url</th>\n",
       "      <th>img_num</th>\n",
       "      <th>p1</th>\n",
       "      <th>p1_conf</th>\n",
       "      <th>p1_dog</th>\n",
       "      <th>p2</th>\n",
       "      <th>p2_conf</th>\n",
       "      <th>p2_dog</th>\n",
       "      <th>p3</th>\n",
       "      <th>p3_conf</th>\n",
       "      <th>p3_dog</th>\n",
       "    </tr>\n",
       "  </thead>\n",
       "  <tbody>\n",
       "  </tbody>\n",
       "</table>\n",
       "</div>"
      ],
      "text/plain": [
       "Empty DataFrame\n",
       "Columns: [tweet_id, jpg_url, img_num, p1, p1_conf, p1_dog, p2, p2_conf, p2_dog, p3, p3_conf, p3_dog]\n",
       "Index: []"
      ]
     },
     "execution_count": 109,
     "metadata": {},
     "output_type": "execute_result"
    }
   ],
   "source": [
    "# Checking for duplication:\n",
    "\n",
    "image_predictions_clean[image_predictions_clean[\"tweet_id\"].duplicated()]  #There are no duplicated in the data assuming the tweet_id as a primary key."
   ]
  },
  {
   "cell_type": "code",
   "execution_count": 110,
   "metadata": {},
   "outputs": [
    {
     "data": {
      "text/plain": [
       "0"
      ]
     },
     "execution_count": 110,
     "metadata": {},
     "output_type": "execute_result"
    }
   ],
   "source": [
    "# Checking for possible missing values:\n",
    "\n",
    "image_predictions_clean[\"tweet_id\"].isnull().sum()  # There is no missing values in the data."
   ]
  },
  {
   "cell_type": "markdown",
   "metadata": {},
   "source": [
    "Luckly, the data types of the variables of the image_predictions_clean are in an appropriate format and free from missing values.\n",
    "It also does not contain duplicated rows.\n",
    "\n",
    "However, the following quality issues are observed in this dataset :"
   ]
  },
  {
   "cell_type": "markdown",
   "metadata": {},
   "source": [
    "1. The column names are not descriptive: for example the column names p1-p3, p1_conf-p3_conf and p1_dog -p3_dog are not clear. It is not easy to what these columns represent.\n",
    "2. The values in the p1, p2, p3 are not connsistent, some start with capital letter and others with small letter. This should be uniform."
   ]
  },
  {
   "cell_type": "markdown",
   "metadata": {},
   "source": [
    "#### Tidiness issues "
   ]
  },
  {
   "cell_type": "markdown",
   "metadata": {},
   "source": [
    " No tidiness issue is observed in this dataset"
   ]
  },
  {
   "cell_type": "markdown",
   "metadata": {},
   "source": [
    "### Twitter archieve enhanced  data "
   ]
  },
  {
   "cell_type": "code",
   "execution_count": 111,
   "metadata": {},
   "outputs": [
    {
     "data": {
      "text/html": [
       "<div>\n",
       "<style scoped>\n",
       "    .dataframe tbody tr th:only-of-type {\n",
       "        vertical-align: middle;\n",
       "    }\n",
       "\n",
       "    .dataframe tbody tr th {\n",
       "        vertical-align: top;\n",
       "    }\n",
       "\n",
       "    .dataframe thead th {\n",
       "        text-align: right;\n",
       "    }\n",
       "</style>\n",
       "<table border=\"1\" class=\"dataframe\">\n",
       "  <thead>\n",
       "    <tr style=\"text-align: right;\">\n",
       "      <th></th>\n",
       "      <th>tweet_id</th>\n",
       "      <th>in_reply_to_status_id</th>\n",
       "      <th>in_reply_to_user_id</th>\n",
       "      <th>timestamp</th>\n",
       "      <th>source</th>\n",
       "      <th>text</th>\n",
       "      <th>retweeted_status_id</th>\n",
       "      <th>retweeted_status_user_id</th>\n",
       "      <th>retweeted_status_timestamp</th>\n",
       "      <th>expanded_urls</th>\n",
       "      <th>rating_numerator</th>\n",
       "      <th>rating_denominator</th>\n",
       "      <th>name</th>\n",
       "      <th>doggo</th>\n",
       "      <th>floofer</th>\n",
       "      <th>pupper</th>\n",
       "      <th>puppo</th>\n",
       "    </tr>\n",
       "  </thead>\n",
       "  <tbody>\n",
       "    <tr>\n",
       "      <th>0</th>\n",
       "      <td>892420643555336193</td>\n",
       "      <td>NaN</td>\n",
       "      <td>NaN</td>\n",
       "      <td>2017-08-01 16:23:56 +0000</td>\n",
       "      <td>&lt;a href=\"http://twitter.com/download/iphone\" r...</td>\n",
       "      <td>This is Phineas. He's a mystical boy. Only eve...</td>\n",
       "      <td>NaN</td>\n",
       "      <td>NaN</td>\n",
       "      <td>NaN</td>\n",
       "      <td>https://twitter.com/dog_rates/status/892420643...</td>\n",
       "      <td>13</td>\n",
       "      <td>10</td>\n",
       "      <td>Phineas</td>\n",
       "      <td>None</td>\n",
       "      <td>None</td>\n",
       "      <td>None</td>\n",
       "      <td>None</td>\n",
       "    </tr>\n",
       "    <tr>\n",
       "      <th>1</th>\n",
       "      <td>892177421306343426</td>\n",
       "      <td>NaN</td>\n",
       "      <td>NaN</td>\n",
       "      <td>2017-08-01 00:17:27 +0000</td>\n",
       "      <td>&lt;a href=\"http://twitter.com/download/iphone\" r...</td>\n",
       "      <td>This is Tilly. She's just checking pup on you....</td>\n",
       "      <td>NaN</td>\n",
       "      <td>NaN</td>\n",
       "      <td>NaN</td>\n",
       "      <td>https://twitter.com/dog_rates/status/892177421...</td>\n",
       "      <td>13</td>\n",
       "      <td>10</td>\n",
       "      <td>Tilly</td>\n",
       "      <td>None</td>\n",
       "      <td>None</td>\n",
       "      <td>None</td>\n",
       "      <td>None</td>\n",
       "    </tr>\n",
       "  </tbody>\n",
       "</table>\n",
       "</div>"
      ],
      "text/plain": [
       "             tweet_id  in_reply_to_status_id  in_reply_to_user_id  \\\n",
       "0  892420643555336193                    NaN                  NaN   \n",
       "1  892177421306343426                    NaN                  NaN   \n",
       "\n",
       "                   timestamp  \\\n",
       "0  2017-08-01 16:23:56 +0000   \n",
       "1  2017-08-01 00:17:27 +0000   \n",
       "\n",
       "                                              source  \\\n",
       "0  <a href=\"http://twitter.com/download/iphone\" r...   \n",
       "1  <a href=\"http://twitter.com/download/iphone\" r...   \n",
       "\n",
       "                                                text  retweeted_status_id  \\\n",
       "0  This is Phineas. He's a mystical boy. Only eve...                  NaN   \n",
       "1  This is Tilly. She's just checking pup on you....                  NaN   \n",
       "\n",
       "   retweeted_status_user_id retweeted_status_timestamp  \\\n",
       "0                       NaN                        NaN   \n",
       "1                       NaN                        NaN   \n",
       "\n",
       "                                       expanded_urls  rating_numerator  \\\n",
       "0  https://twitter.com/dog_rates/status/892420643...                13   \n",
       "1  https://twitter.com/dog_rates/status/892177421...                13   \n",
       "\n",
       "   rating_denominator     name doggo floofer pupper puppo  \n",
       "0                  10  Phineas  None    None   None  None  \n",
       "1                  10    Tilly  None    None   None  None  "
      ]
     },
     "execution_count": 111,
     "metadata": {},
     "output_type": "execute_result"
    }
   ],
   "source": [
    "twitter_archive_clean.head(2)"
   ]
  },
  {
   "cell_type": "code",
   "execution_count": 112,
   "metadata": {},
   "outputs": [
    {
     "data": {
      "text/plain": [
       "Index(['tweet_id', 'in_reply_to_status_id', 'in_reply_to_user_id', 'timestamp',\n",
       "       'source', 'text', 'retweeted_status_id', 'retweeted_status_user_id',\n",
       "       'retweeted_status_timestamp', 'expanded_urls', 'rating_numerator',\n",
       "       'rating_denominator', 'name', 'doggo', 'floofer', 'pupper', 'puppo'],\n",
       "      dtype='object')"
      ]
     },
     "execution_count": 112,
     "metadata": {},
     "output_type": "execute_result"
    }
   ],
   "source": [
    "\n",
    "\n",
    "twitter_archive_clean.columns"
   ]
  },
  {
   "cell_type": "code",
   "execution_count": 113,
   "metadata": {},
   "outputs": [
    {
     "data": {
      "text/plain": [
       "0       False\n",
       "1       False\n",
       "2       False\n",
       "3       False\n",
       "4       False\n",
       "        ...  \n",
       "2351    False\n",
       "2352    False\n",
       "2353    False\n",
       "2354    False\n",
       "2355    False\n",
       "Name: doggo, Length: 2356, dtype: bool"
      ]
     },
     "execution_count": 113,
     "metadata": {},
     "output_type": "execute_result"
    }
   ],
   "source": [
    "twitter_archive_clean[\"doggo\"]==None"
   ]
  },
  {
   "cell_type": "markdown",
   "metadata": {},
   "source": [
    "#### Quality issues"
   ]
  },
  {
   "cell_type": "code",
   "execution_count": 114,
   "metadata": {},
   "outputs": [
    {
     "name": "stdout",
     "output_type": "stream",
     "text": [
      "<class 'pandas.core.frame.DataFrame'>\n",
      "RangeIndex: 2356 entries, 0 to 2355\n",
      "Data columns (total 17 columns):\n",
      " #   Column                      Non-Null Count  Dtype  \n",
      "---  ------                      --------------  -----  \n",
      " 0   tweet_id                    2356 non-null   int64  \n",
      " 1   in_reply_to_status_id       78 non-null     float64\n",
      " 2   in_reply_to_user_id         78 non-null     float64\n",
      " 3   timestamp                   2356 non-null   object \n",
      " 4   source                      2356 non-null   object \n",
      " 5   text                        2356 non-null   object \n",
      " 6   retweeted_status_id         181 non-null    float64\n",
      " 7   retweeted_status_user_id    181 non-null    float64\n",
      " 8   retweeted_status_timestamp  181 non-null    object \n",
      " 9   expanded_urls               2297 non-null   object \n",
      " 10  rating_numerator            2356 non-null   int64  \n",
      " 11  rating_denominator          2356 non-null   int64  \n",
      " 12  name                        2356 non-null   object \n",
      " 13  doggo                       2356 non-null   object \n",
      " 14  floofer                     2356 non-null   object \n",
      " 15  pupper                      2356 non-null   object \n",
      " 16  puppo                       2356 non-null   object \n",
      "dtypes: float64(4), int64(3), object(10)\n",
      "memory usage: 313.0+ KB\n"
     ]
    }
   ],
   "source": [
    "\n",
    "twitter_archive_clean.info()"
   ]
  },
  {
   "cell_type": "code",
   "execution_count": 115,
   "metadata": {},
   "outputs": [
    {
     "data": {
      "text/plain": [
       "tweet_id                         0\n",
       "in_reply_to_status_id         2278\n",
       "in_reply_to_user_id           2278\n",
       "timestamp                        0\n",
       "source                           0\n",
       "text                             0\n",
       "retweeted_status_id           2175\n",
       "retweeted_status_user_id      2175\n",
       "retweeted_status_timestamp    2175\n",
       "expanded_urls                   59\n",
       "rating_numerator                 0\n",
       "rating_denominator               0\n",
       "name                             0\n",
       "doggo                            0\n",
       "floofer                          0\n",
       "pupper                           0\n",
       "puppo                            0\n",
       "dtype: int64"
      ]
     },
     "execution_count": 115,
     "metadata": {},
     "output_type": "execute_result"
    }
   ],
   "source": [
    "# Alternative way to identify for missing values:\n",
    "twitter_archive_clean.isnull().sum()"
   ]
  },
  {
   "cell_type": "markdown",
   "metadata": {},
   "source": [
    "In the above two cells, two quality issues are observed. Firstly, some features almost their complete data are missing. Secondly, ids are floats and the timestamp is string (object), which in principle supposed to be integer and datetime respectively. "
   ]
  },
  {
   "cell_type": "code",
   "execution_count": 116,
   "metadata": {},
   "outputs": [
    {
     "data": {
      "text/html": [
       "<div>\n",
       "<style scoped>\n",
       "    .dataframe tbody tr th:only-of-type {\n",
       "        vertical-align: middle;\n",
       "    }\n",
       "\n",
       "    .dataframe tbody tr th {\n",
       "        vertical-align: top;\n",
       "    }\n",
       "\n",
       "    .dataframe thead th {\n",
       "        text-align: right;\n",
       "    }\n",
       "</style>\n",
       "<table border=\"1\" class=\"dataframe\">\n",
       "  <thead>\n",
       "    <tr style=\"text-align: right;\">\n",
       "      <th></th>\n",
       "      <th>tweet_id</th>\n",
       "      <th>in_reply_to_status_id</th>\n",
       "      <th>in_reply_to_user_id</th>\n",
       "      <th>timestamp</th>\n",
       "      <th>source</th>\n",
       "      <th>text</th>\n",
       "      <th>retweeted_status_id</th>\n",
       "      <th>retweeted_status_user_id</th>\n",
       "      <th>retweeted_status_timestamp</th>\n",
       "      <th>expanded_urls</th>\n",
       "      <th>rating_numerator</th>\n",
       "      <th>rating_denominator</th>\n",
       "      <th>name</th>\n",
       "      <th>doggo</th>\n",
       "      <th>floofer</th>\n",
       "      <th>pupper</th>\n",
       "      <th>puppo</th>\n",
       "    </tr>\n",
       "  </thead>\n",
       "  <tbody>\n",
       "  </tbody>\n",
       "</table>\n",
       "</div>"
      ],
      "text/plain": [
       "Empty DataFrame\n",
       "Columns: [tweet_id, in_reply_to_status_id, in_reply_to_user_id, timestamp, source, text, retweeted_status_id, retweeted_status_user_id, retweeted_status_timestamp, expanded_urls, rating_numerator, rating_denominator, name, doggo, floofer, pupper, puppo]\n",
       "Index: []"
      ]
     },
     "execution_count": 116,
     "metadata": {},
     "output_type": "execute_result"
    }
   ],
   "source": [
    "#Checking for duplicated rows:\n",
    "\n",
    "twitter_archive_clean[twitter_archive_clean[\"tweet_id\"].duplicated()] # Lucky this does dataset does not contain duplicated rows."
   ]
  },
  {
   "cell_type": "markdown",
   "metadata": {},
   "source": [
    "To sum up, the following four quality issues are observed in the twitter_archive_enhanced dataset:"
   ]
  },
  {
   "cell_type": "markdown",
   "metadata": {},
   "source": [
    "1. The columns in_reply_to_status_id and in_reply_to_user_id and retweeted_status_timestamp contain almost missing values and the data type is float which is not correct. As these are ids, the data type should be integer. \n",
    "2. The data type of the timestamp found to be a object(string), this should be converted into datetime  \n",
    "3. In the \"name\" column, some names are \"a\" which I believe a mistake and some \"None\". The name also should be consistent (small letter or capitalised)\n",
    "4. The rating_denominator has value of zero, in order to carry out division operation to find out the rating ratio, this should be replaced by np.nan.\n",
    "\n",
    "5. The column \"text\" contains a text, numbers ( numerator and denominator) and url at the end of each text. \n",
    "The text and the url should be in separated columns including the ratings. \n",
    "    \n",
    "6 . The \"expanded_urls\" column contains some duplicates as observed in the cell below, as an example values at index 4."
   ]
  },
  {
   "cell_type": "code",
   "execution_count": 117,
   "metadata": {},
   "outputs": [
    {
     "data": {
      "text/plain": [
       "\"This is Phineas. He's a mystical boy. Only ever appears in the hole of a donut. 13/10 https://t.co/MgUWQ76dJU\""
      ]
     },
     "execution_count": 117,
     "metadata": {},
     "output_type": "execute_result"
    }
   ],
   "source": [
    "twitter_archive_clean.text[0]  # Although, the \"text\" column is intended to contain only texts, we see below a combination of three categories. \n",
    "                                # The first one being text, the second one numerical values and the third one a website.  "
   ]
  },
  {
   "cell_type": "code",
   "execution_count": 118,
   "metadata": {},
   "outputs": [
    {
     "data": {
      "text/plain": [
       "'https://twitter.com/dog_rates/status/891327558926688256/photo/1,https://twitter.com/dog_rates/status/891327558926688256/photo/1'"
      ]
     },
     "execution_count": 118,
     "metadata": {},
     "output_type": "execute_result"
    }
   ],
   "source": [
    "twitter_archive_clean.expanded_urls[4]  # Here we see dupliactions, one website appeared two times. This is similar instance to the above. A strucutral issue.\n",
    "                                        # This has to be addressed. "
   ]
  },
  {
   "cell_type": "code",
   "execution_count": 119,
   "metadata": {},
   "outputs": [],
   "source": [
    "# Checking for their sameness the above websites separated by comma. \n",
    "\n",
    "assert(twitter_archive_clean.expanded_urls[4].split(\",\")[0]== twitter_archive_clean.expanded_urls[4].split(\",\")[1]) # No error means, they are equal. "
   ]
  },
  {
   "cell_type": "markdown",
   "metadata": {},
   "source": [
    "#### Tidiness issues"
   ]
  },
  {
   "cell_type": "markdown",
   "metadata": {},
   "source": [
    "Summing up, the following tidiness issue is identified in the archive enhanced dataset: "
   ]
  },
  {
   "cell_type": "markdown",
   "metadata": {},
   "source": [
    "1. There are four columns that represent the dog stages, as the dog stage represent a single variable, these columns should be merged into a single column."
   ]
  },
  {
   "cell_type": "markdown",
   "metadata": {},
   "source": [
    "###  tweet-json data:"
   ]
  },
  {
   "cell_type": "markdown",
   "metadata": {},
   "source": [
    "#### Quality issues"
   ]
  },
  {
   "cell_type": "code",
   "execution_count": 120,
   "metadata": {},
   "outputs": [
    {
     "data": {
      "text/html": [
       "<div>\n",
       "<style scoped>\n",
       "    .dataframe tbody tr th:only-of-type {\n",
       "        vertical-align: middle;\n",
       "    }\n",
       "\n",
       "    .dataframe tbody tr th {\n",
       "        vertical-align: top;\n",
       "    }\n",
       "\n",
       "    .dataframe thead th {\n",
       "        text-align: right;\n",
       "    }\n",
       "</style>\n",
       "<table border=\"1\" class=\"dataframe\">\n",
       "  <thead>\n",
       "    <tr style=\"text-align: right;\">\n",
       "      <th></th>\n",
       "      <th>id</th>\n",
       "      <th>retweet_count</th>\n",
       "      <th>favorite_count</th>\n",
       "      <th>lang</th>\n",
       "      <th>followers_count</th>\n",
       "    </tr>\n",
       "  </thead>\n",
       "  <tbody>\n",
       "    <tr>\n",
       "      <th>0</th>\n",
       "      <td>892420643555336193</td>\n",
       "      <td>8853</td>\n",
       "      <td>39467</td>\n",
       "      <td>en</td>\n",
       "      <td>3200889</td>\n",
       "    </tr>\n",
       "    <tr>\n",
       "      <th>1</th>\n",
       "      <td>892177421306343426</td>\n",
       "      <td>6514</td>\n",
       "      <td>33819</td>\n",
       "      <td>en</td>\n",
       "      <td>3200889</td>\n",
       "    </tr>\n",
       "    <tr>\n",
       "      <th>2</th>\n",
       "      <td>891815181378084864</td>\n",
       "      <td>4328</td>\n",
       "      <td>25461</td>\n",
       "      <td>en</td>\n",
       "      <td>3200889</td>\n",
       "    </tr>\n",
       "    <tr>\n",
       "      <th>3</th>\n",
       "      <td>891689557279858688</td>\n",
       "      <td>8964</td>\n",
       "      <td>42908</td>\n",
       "      <td>en</td>\n",
       "      <td>3200889</td>\n",
       "    </tr>\n",
       "    <tr>\n",
       "      <th>4</th>\n",
       "      <td>891327558926688256</td>\n",
       "      <td>9774</td>\n",
       "      <td>41048</td>\n",
       "      <td>en</td>\n",
       "      <td>3200889</td>\n",
       "    </tr>\n",
       "  </tbody>\n",
       "</table>\n",
       "</div>"
      ],
      "text/plain": [
       "                   id  retweet_count  favorite_count lang  followers_count\n",
       "0  892420643555336193           8853           39467   en          3200889\n",
       "1  892177421306343426           6514           33819   en          3200889\n",
       "2  891815181378084864           4328           25461   en          3200889\n",
       "3  891689557279858688           8964           42908   en          3200889\n",
       "4  891327558926688256           9774           41048   en          3200889"
      ]
     },
     "execution_count": 120,
     "metadata": {},
     "output_type": "execute_result"
    }
   ],
   "source": [
    "tweet_json_clean.head()  # The column  name \"lang\" is not descriptive, better to write it full word."
   ]
  },
  {
   "cell_type": "code",
   "execution_count": 121,
   "metadata": {},
   "outputs": [
    {
     "data": {
      "text/plain": [
       "lang\n",
       "en     18948828\n",
       "es          840\n",
       "et          414\n",
       "eu         2892\n",
       "in        56456\n",
       "nl         3867\n",
       "ro            0\n",
       "tl          161\n",
       "und        9142\n",
       "Name: favorite_count, dtype: int64"
      ]
     },
     "execution_count": 121,
     "metadata": {},
     "output_type": "execute_result"
    }
   ],
   "source": [
    "tweet_json_clean.groupby(\"lang\")[\"favorite_count\"].sum() # Here we see that the difficulty to identify to which language do the abbreviations represent."
   ]
  },
  {
   "cell_type": "code",
   "execution_count": 122,
   "metadata": {},
   "outputs": [
    {
     "name": "stdout",
     "output_type": "stream",
     "text": [
      "<class 'pandas.core.frame.DataFrame'>\n",
      "Int64Index: 2354 entries, 0 to 2353\n",
      "Data columns (total 5 columns):\n",
      " #   Column           Non-Null Count  Dtype \n",
      "---  ------           --------------  ----- \n",
      " 0   id               2354 non-null   int64 \n",
      " 1   retweet_count    2354 non-null   int64 \n",
      " 2   favorite_count   2354 non-null   int64 \n",
      " 3   lang             2354 non-null   object\n",
      " 4   followers_count  2354 non-null   int64 \n",
      "dtypes: int64(4), object(1)\n",
      "memory usage: 110.3+ KB\n"
     ]
    }
   ],
   "source": [
    "# Checking for data type:\n",
    "\n",
    "tweet_json_clean.info()  # The data types are appropriate. "
   ]
  },
  {
   "cell_type": "code",
   "execution_count": 123,
   "metadata": {},
   "outputs": [
    {
     "data": {
      "text/plain": [
       "id                 0\n",
       "retweet_count      0\n",
       "favorite_count     0\n",
       "lang               0\n",
       "followers_count    0\n",
       "dtype: int64"
      ]
     },
     "execution_count": 123,
     "metadata": {},
     "output_type": "execute_result"
    }
   ],
   "source": [
    "# Checking for possible missing values:\n",
    "\n",
    "tweet_json_clean.isnull().sum()  # Luckly, the features in this dataset donot contain missing values."
   ]
  },
  {
   "cell_type": "code",
   "execution_count": 124,
   "metadata": {},
   "outputs": [
    {
     "data": {
      "text/html": [
       "<div>\n",
       "<style scoped>\n",
       "    .dataframe tbody tr th:only-of-type {\n",
       "        vertical-align: middle;\n",
       "    }\n",
       "\n",
       "    .dataframe tbody tr th {\n",
       "        vertical-align: top;\n",
       "    }\n",
       "\n",
       "    .dataframe thead th {\n",
       "        text-align: right;\n",
       "    }\n",
       "</style>\n",
       "<table border=\"1\" class=\"dataframe\">\n",
       "  <thead>\n",
       "    <tr style=\"text-align: right;\">\n",
       "      <th></th>\n",
       "      <th>id</th>\n",
       "      <th>retweet_count</th>\n",
       "      <th>favorite_count</th>\n",
       "      <th>lang</th>\n",
       "      <th>followers_count</th>\n",
       "    </tr>\n",
       "  </thead>\n",
       "  <tbody>\n",
       "  </tbody>\n",
       "</table>\n",
       "</div>"
      ],
      "text/plain": [
       "Empty DataFrame\n",
       "Columns: [id, retweet_count, favorite_count, lang, followers_count]\n",
       "Index: []"
      ]
     },
     "execution_count": 124,
     "metadata": {},
     "output_type": "execute_result"
    }
   ],
   "source": [
    "# Checking for duplication:\n",
    "\n",
    "tweet_json_clean[tweet_json_clean.duplicated()]  # No duplicated values are found in this dataset."
   ]
  },
  {
   "cell_type": "markdown",
   "metadata": {},
   "source": [
    "Summing up, the following quality issues are observed in the tweet json data\n",
    "\n",
    "1. The column name \"lang\" is not descriptive, this should be replaced by \"language\"\n",
    "2. The language names are abbreviated.However, it is difficult to identify which abbrevation refers to which langauge. For example und which refers to \"undetermined\""
   ]
  },
  {
   "cell_type": "markdown",
   "metadata": {},
   "source": [
    "#### Tidiness issues"
   ]
  },
  {
   "cell_type": "markdown",
   "metadata": {},
   "source": [
    " No tidiness issues are seen in this dataset"
   ]
  },
  {
   "cell_type": "markdown",
   "metadata": {},
   "source": [
    "## Cleaning data "
   ]
  },
  {
   "cell_type": "markdown",
   "metadata": {},
   "source": [
    "### Image prediction "
   ]
  },
  {
   "cell_type": "markdown",
   "metadata": {},
   "source": [
    "####  Define: "
   ]
  },
  {
   "cell_type": "markdown",
   "metadata": {},
   "source": [
    " The following quality issues are addressed in the image_prediction_clean data\n",
    "- Rename the columns with more descriptive names.\n",
    "- Capitalize each letter of the values in the p1, p2, p3 columns.\n",
    "- Replace \"-\" by \"_\" in the prediction1-3 "
   ]
  },
  {
   "cell_type": "markdown",
   "metadata": {},
   "source": [
    "#### Code :"
   ]
  },
  {
   "cell_type": "code",
   "execution_count": 125,
   "metadata": {},
   "outputs": [],
   "source": [
    "# 1. Renaming of the columns:\n",
    "\n",
    "image_predictions_clean.rename(columns = \n",
    "                               {\"p1\": \"predict1\", \"p1_conf\":\"predict1_conf\", \"p1_dog\": \"predict1_dog\", \n",
    "                               \"p2\":\"predict2\", \"p2_conf\":\"predict2_conf\", \"p2_dog\":\"predict2_dog\",\n",
    "                               \"p3\":\"predict3\", \"p3_conf\": \"predict3_conf\", \"p3_dog\":\"predict3_dog\", \"jpg_url\": \"image_url\", \"img_num\": \"image_num\"}, inplace = True)"
   ]
  },
  {
   "cell_type": "code",
   "execution_count": 126,
   "metadata": {},
   "outputs": [],
   "source": [
    "# 2. Capitalize first letter of each word in the predict1, predict2, and predict3 columns.\n",
    "\n",
    "column_predictions = [\"predict1\", \"predict2\",\"predict3\"]  # List of the columns I am interested in changing the values. \n",
    "\n",
    "for column_predict in column_predictions:\n",
    "    \n",
    "    image_predictions_clean[column_predict] =  image_predictions_clean[column_predict].apply(lambda x: x.title())\n"
   ]
  },
  {
   "cell_type": "markdown",
   "metadata": {},
   "source": [
    "#### Test: "
   ]
  },
  {
   "cell_type": "code",
   "execution_count": 127,
   "metadata": {},
   "outputs": [
    {
     "data": {
      "text/plain": [
       "('Redbone', 'redbone')"
      ]
     },
     "execution_count": 127,
     "metadata": {},
     "output_type": "execute_result"
    }
   ],
   "source": [
    "(image_predictions_clean[\"predict1\"][1], image_predictions_df[\"p1\"][1])# Comparing with the original data, we are sure that the change has taken place. "
   ]
  },
  {
   "cell_type": "code",
   "execution_count": 128,
   "metadata": {},
   "outputs": [
    {
     "data": {
      "text/plain": [
       "Index(['tweet_id', 'image_url', 'image_num', 'predict1', 'predict1_conf',\n",
       "       'predict1_dog', 'predict2', 'predict2_conf', 'predict2_dog', 'predict3',\n",
       "       'predict3_conf', 'predict3_dog'],\n",
       "      dtype='object')"
      ]
     },
     "execution_count": 128,
     "metadata": {},
     "output_type": "execute_result"
    }
   ],
   "source": [
    "image_predictions_clean.columns # Column names are renamed as planned. "
   ]
  },
  {
   "cell_type": "markdown",
   "metadata": {},
   "source": [
    "#### Test: "
   ]
  },
  {
   "cell_type": "code",
   "execution_count": 129,
   "metadata": {},
   "outputs": [
    {
     "data": {
      "text/plain": [
       "Index(['id', 'retweet_count', 'favorite_count', 'lang', 'followers_count'], dtype='object')"
      ]
     },
     "execution_count": 129,
     "metadata": {},
     "output_type": "execute_result"
    }
   ],
   "source": [
    "tweet_json_clean.columns == tweet_df.columns # Compare the column names of the original and that of tweet_clean after the \"lang\" is renamed by \"langauge\"\n",
    "tweet_json_clean.columns  # # So we can see that columnn name is changed."
   ]
  },
  {
   "cell_type": "code",
   "execution_count": 130,
   "metadata": {},
   "outputs": [
    {
     "data": {
      "text/html": [
       "<div>\n",
       "<style scoped>\n",
       "    .dataframe tbody tr th:only-of-type {\n",
       "        vertical-align: middle;\n",
       "    }\n",
       "\n",
       "    .dataframe tbody tr th {\n",
       "        vertical-align: top;\n",
       "    }\n",
       "\n",
       "    .dataframe thead th {\n",
       "        text-align: right;\n",
       "    }\n",
       "</style>\n",
       "<table border=\"1\" class=\"dataframe\">\n",
       "  <thead>\n",
       "    <tr style=\"text-align: right;\">\n",
       "      <th></th>\n",
       "      <th>tweet_id</th>\n",
       "      <th>jpg_url</th>\n",
       "      <th>img_num</th>\n",
       "      <th>p1</th>\n",
       "      <th>p1_conf</th>\n",
       "      <th>p1_dog</th>\n",
       "      <th>p2</th>\n",
       "      <th>p2_conf</th>\n",
       "      <th>p2_dog</th>\n",
       "      <th>p3</th>\n",
       "      <th>p3_conf</th>\n",
       "      <th>p3_dog</th>\n",
       "    </tr>\n",
       "  </thead>\n",
       "  <tbody>\n",
       "    <tr>\n",
       "      <th>563</th>\n",
       "      <td>678021115718029313</td>\n",
       "      <td>https://pbs.twimg.com/media/CWjQm5gXAAA9GkD.jpg</td>\n",
       "      <td>1</td>\n",
       "      <td>miniature_pinscher</td>\n",
       "      <td>0.822048</td>\n",
       "      <td>True</td>\n",
       "      <td>Doberman</td>\n",
       "      <td>0.096085</td>\n",
       "      <td>True</td>\n",
       "      <td>Rottweiler</td>\n",
       "      <td>0.032709</td>\n",
       "      <td>True</td>\n",
       "    </tr>\n",
       "    <tr>\n",
       "      <th>1586</th>\n",
       "      <td>797971864723324932</td>\n",
       "      <td>https://pbs.twimg.com/media/CxL3IWeVEAAAIE2.jpg</td>\n",
       "      <td>1</td>\n",
       "      <td>American_Staffordshire_terrier</td>\n",
       "      <td>0.489845</td>\n",
       "      <td>True</td>\n",
       "      <td>Chihuahua</td>\n",
       "      <td>0.305760</td>\n",
       "      <td>True</td>\n",
       "      <td>Staffordshire_bullterrier</td>\n",
       "      <td>0.072799</td>\n",
       "      <td>True</td>\n",
       "    </tr>\n",
       "    <tr>\n",
       "      <th>1146</th>\n",
       "      <td>730573383004487680</td>\n",
       "      <td>https://pbs.twimg.com/media/CiOEnI6WgAAmq4E.jpg</td>\n",
       "      <td>2</td>\n",
       "      <td>American_Staffordshire_terrier</td>\n",
       "      <td>0.810158</td>\n",
       "      <td>True</td>\n",
       "      <td>Labrador_retriever</td>\n",
       "      <td>0.058205</td>\n",
       "      <td>True</td>\n",
       "      <td>Weimaraner</td>\n",
       "      <td>0.027929</td>\n",
       "      <td>True</td>\n",
       "    </tr>\n",
       "  </tbody>\n",
       "</table>\n",
       "</div>"
      ],
      "text/plain": [
       "                tweet_id                                          jpg_url  \\\n",
       "563   678021115718029313  https://pbs.twimg.com/media/CWjQm5gXAAA9GkD.jpg   \n",
       "1586  797971864723324932  https://pbs.twimg.com/media/CxL3IWeVEAAAIE2.jpg   \n",
       "1146  730573383004487680  https://pbs.twimg.com/media/CiOEnI6WgAAmq4E.jpg   \n",
       "\n",
       "      img_num                              p1   p1_conf  p1_dog  \\\n",
       "563         1              miniature_pinscher  0.822048    True   \n",
       "1586        1  American_Staffordshire_terrier  0.489845    True   \n",
       "1146        2  American_Staffordshire_terrier  0.810158    True   \n",
       "\n",
       "                      p2   p2_conf  p2_dog                         p3  \\\n",
       "563             Doberman  0.096085    True                 Rottweiler   \n",
       "1586           Chihuahua  0.305760    True  Staffordshire_bullterrier   \n",
       "1146  Labrador_retriever  0.058205    True                 Weimaraner   \n",
       "\n",
       "       p3_conf  p3_dog  \n",
       "563   0.032709    True  \n",
       "1586  0.072799    True  \n",
       "1146  0.027929    True  "
      ]
     },
     "execution_count": 130,
     "metadata": {},
     "output_type": "execute_result"
    }
   ],
   "source": [
    "image_predictions_df.sample(3)"
   ]
  },
  {
   "cell_type": "markdown",
   "metadata": {},
   "source": [
    "### Twitter archive enhanced data "
   ]
  },
  {
   "cell_type": "markdown",
   "metadata": {},
   "source": [
    "####  Define: "
   ]
  },
  {
   "cell_type": "markdown",
   "metadata": {},
   "source": [
    " The following quality issues will be addressed: \n",
    "\n",
    "\n",
    "- Remove the rows and columns that contain non-empty in the columns retweets  in_reply_to_status_id,in_reply_to_user_id,retweeted_status_id,retweeted_status_user_id \n",
    "- Drop the columns in_reply_to_status_id,in_reply_to_user_id,retweeted_status_id,retweeted_status_user_id ,retweeted_status_timestamp contain almost missing values.\n",
    "- Convert the data type of timestamp into datetime.\n",
    "- Replace any value in the name column which is less than two letters by None. Capitalize for each name. \n",
    "- Replace the 0 value in the rating_denominator by np.nan so that be able to calculate the rating_ratio. \n",
    "- Extract the sentences and url from the \"text\" column and create three columns and populate the sententeces, ulr and rating in corresponding columns.\n",
    "- Exclude duplicated values in the expanded_urls column if there is any.\n"
   ]
  },
  {
   "cell_type": "markdown",
   "metadata": {},
   "source": [
    " The following tidiness issue will be addressed:  \n",
    "\n",
    "- Merge the four columns (\"doggo\", \"floofer\", \"pupper\", \"puppo\") into a single column "
   ]
  },
  {
   "cell_type": "markdown",
   "metadata": {},
   "source": [
    "#### Code :"
   ]
  },
  {
   "cell_type": "code",
   "execution_count": 131,
   "metadata": {},
   "outputs": [],
   "source": [
    "#1 a. Remove the rows containing none-empty values in following columns\n",
    "\n",
    "columns_drop = ([\"in_reply_to_status_id\",\"in_reply_to_user_id\",\n",
    "                 \"retweeted_status_id\",\"retweeted_status_user_id\",\n",
    "                 \"retweeted_status_timestamp\"])\n",
    "\n",
    "for column in columns_drop:\n",
    "    \n",
    "    df = twitter_archive_clean[twitter_archive_clean[column].notnull()]   # DataFrame where non-empty exists\n",
    "    twitter_archive_clean.drop(df.index, axis = 0, inplace = True)\n",
    "\n",
    "# 1 b. Drop the \"columns_drop\"  listed above\n",
    "\n",
    "    twitter_archive_clean.drop(column, axis = 1, inplace = True)\n",
    "    "
   ]
  },
  {
   "cell_type": "code",
   "execution_count": 132,
   "metadata": {},
   "outputs": [],
   "source": [
    "# 2. Convert the data type of timestamp into datetime\n",
    "\n",
    "twitter_archive_clean[\"timestamp\"] = pd.to_datetime(twitter_archive_clean[\"timestamp\"])"
   ]
  },
  {
   "cell_type": "code",
   "execution_count": 133,
   "metadata": {},
   "outputs": [],
   "source": [
    "# 3. Extract the url from the text column and assgin to new column called url.\n",
    "\n",
    "twitter_archive_clean[\"url\"]= twitter_archive_clean.text.str.extract('(\\w+\\S\\/\\/\\w[\\.*\\D\\d\\/*]+)', expand= True)  # Extracting the url at from the end the data values in the text column. \n"
   ]
  },
  {
   "cell_type": "code",
   "execution_count": 134,
   "metadata": {},
   "outputs": [],
   "source": [
    "# 4. Extract the ratings from the text column and put them in a new column \n",
    "\n",
    "ratings = twitter_archive_clean.text.str.extract('((?:\\d+\\.)?\\d+)\\/(\\d+)', expand= True)"
   ]
  },
  {
   "cell_type": "code",
   "execution_count": 135,
   "metadata": {},
   "outputs": [],
   "source": [
    "# Updating the rating_numerator and denominator by the extracted ones from the above cell. \n",
    "\n",
    "twitter_archive_clean[\"rating_numerator\"] = ratings.loc[:,0]  # Extract the numerator from the ratings DataFrame \n",
    "\n",
    "twitter_archive_clean[\"rating_denominator\"] = ratings.loc[:,1]  # Extract the numerator from the ratings DataFrame \n",
    "\n",
    "twitter_archive_clean[\"rating_numerator\"] = twitter_archive_clean[\"rating_numerator\"].astype(float)  # Converting into float \n",
    "\n",
    "twitter_archive_clean[\"rating_denominator\"] = twitter_archive_clean[\"rating_denominator\"].astype(float) # Converting into float"
   ]
  },
  {
   "cell_type": "code",
   "execution_count": 136,
   "metadata": {},
   "outputs": [],
   "source": [
    "# Calculating the rating ratio:\n",
    "\n",
    "twitter_archive_clean[\"rating_denominator\"]= twitter_archive_clean[\"rating_denominator\"].replace(0, np.nan)# Replacing the zero by np.nan \n",
    "\n",
    "twitter_archive_clean[\"rating_ratio\"] = twitter_archive_clean[\"rating_numerator\"]/twitter_archive_clean[\"rating_denominator\"]  # Caculating the ratio of the two ratings:\n"
   ]
  },
  {
   "cell_type": "code",
   "execution_count": 137,
   "metadata": {},
   "outputs": [],
   "source": [
    "# 5. Extract the sentences in the text column and replace to the old one:\n",
    "\n",
    "twitter_archive_clean[\"text\"]= twitter_archive_clean.text.str.extract('([A-Z][a-z]\\D+)+', expand= True)  # Extracting the sentences from the text columns.\n"
   ]
  },
  {
   "cell_type": "code",
   "execution_count": 138,
   "metadata": {},
   "outputs": [
    {
     "name": "stdout",
     "output_type": "stream",
     "text": [
      "56 ['a', 'a', 'O', 'a', 'a', 'a', 'a', 'a', 'a', 'a', 'a', 'a', 'a', 'a', 'a', 'a', 'a', 'a', 'a', 'a', 'a', 'a', 'a', 'a', 'a', 'a', 'a', 'a', 'a', 'a', 'a', 'a', 'a', 'a', 'a', 'a', 'a', 'a', 'a', 'a', 'a', 'a', 'a', 'a', 'a', 'a', 'a', 'a', 'a', 'a', 'a', 'a', 'a', 'a', 'a', 'a']\n"
     ]
    }
   ],
   "source": [
    "# I asume names of one length meaning an alphabet, I consider this is a type error, therefore decided to replace by None.\n",
    "wrong_names = []\n",
    "\n",
    "for wrong_name in twitter_archive_clean[\"name\"]:\n",
    "    if len(wrong_name) <2:\n",
    "        \n",
    "        wrong_names.append(wrong_name)\n",
    "        \n",
    "print(len(wrong_names), wrong_names)"
   ]
  },
  {
   "cell_type": "code",
   "execution_count": 139,
   "metadata": {},
   "outputs": [],
   "source": [
    "#6. Replace the \"a\"s and \"O\" by empty string\n",
    "\n",
    "twitter_archive_clean[\"name\"] = twitter_archive_clean[\"name\"].replace({\"a\":\"\", \"O\":\"\"})"
   ]
  },
  {
   "cell_type": "code",
   "execution_count": 140,
   "metadata": {},
   "outputs": [],
   "source": [
    "# Capitalize the first letter in each dog name:\n",
    "\n",
    "twitter_archive_clean[\"name\"]= twitter_archive_clean[\"name\"].str.title()"
   ]
  },
  {
   "cell_type": "code",
   "execution_count": 141,
   "metadata": {},
   "outputs": [],
   "source": [
    "# 7. Exclude duplications if individual value has duplicated data in the expanded_urls\n",
    "\n",
    "expanded_url = twitter_archive_clean.expanded_urls  # Access the values in the expanded_urls column\n",
    "\n",
    "expanded_url_cleaned = []      # The cleaned values to be stored\n",
    "\n",
    "for url in expanded_url:\n",
    "\n",
    "    if isinstance(url, str):  # Check if there is a string \n",
    "        \n",
    "        if \",\" in url:        # Check if the string has a comma, if that is the case, split it and append the first one to the expanded_url_cleaned list. \n",
    "            expanded_url_cleaned.append(url.split(\",\")[0])\n",
    "        else:\n",
    "            expanded_url_cleaned.append(url)\n",
    "    else:\n",
    "        \n",
    "        expanded_url_cleaned.append(url) \n",
    "        \n",
    "twitter_archive_clean[\"expanded_urls\"] = expanded_url_cleaned   # Replace values by the cleaned one. "
   ]
  },
  {
   "cell_type": "code",
   "execution_count": 142,
   "metadata": {},
   "outputs": [],
   "source": [
    "\n",
    "# 8. Merging the four columns of stages into a single variable (column)\n",
    "\n",
    "# Replacing the None and missing values (NaN) by empty strings.\n",
    "\n",
    "columns = [\"doggo\", \"floofer\", \"pupper\", \"puppo\"]\n",
    "    \n",
    "for column in columns:\n",
    "    \n",
    "    \n",
    "    twitter_archive_clean[column] = twitter_archive_clean[column].replace(\"None\",\"\")\n",
    "\n",
    "    twitter_archive_clean[column] = twitter_archive_clean[column].replace(np.nan,\"\")\n"
   ]
  },
  {
   "cell_type": "code",
   "execution_count": 143,
   "metadata": {},
   "outputs": [],
   "source": [
    "# Merging the four columns\n",
    "\n",
    "twitter_archive_clean[\"dog_stage\"]= (twitter_archive_clean[\"doggo\"] + twitter_archive_clean[\"floofer\"]+\n",
    "                                     twitter_archive_clean[\"pupper\"] +twitter_archive_clean[\"puppo\"])\n",
    "\n",
    "\n",
    "twitter_archive_clean.loc[twitter_archive_clean.dog_stage ==\"doggopupper\",\"dog_stage\"]= \"doggo,pupper\"\n",
    "\n",
    "twitter_archive_clean.loc[twitter_archive_clean.dog_stage ==\"doggopuppo\",\"dog_stage\"]= \"doggo,puppo\"\n",
    "\n",
    "twitter_archive_clean.loc[twitter_archive_clean.dog_stage ==\"doggofloofer\",\"dog_stage\"]= \"doggo,floofer\""
   ]
  },
  {
   "cell_type": "code",
   "execution_count": 144,
   "metadata": {},
   "outputs": [],
   "source": [
    "# Drop the columns \n",
    "\n",
    "drop_columns = [\"doggo\",\"floofer\",\"pupper\",\"puppo\"]\n",
    "\n",
    "for column in drop_columns:\n",
    "    twitter_archive_clean.drop(column, axis = 1, inplace = True)\n",
    "    "
   ]
  },
  {
   "cell_type": "markdown",
   "metadata": {},
   "source": [
    "#### Test"
   ]
  },
  {
   "cell_type": "code",
   "execution_count": 145,
   "metadata": {},
   "outputs": [
    {
     "data": {
      "text/html": [
       "<div>\n",
       "<style scoped>\n",
       "    .dataframe tbody tr th:only-of-type {\n",
       "        vertical-align: middle;\n",
       "    }\n",
       "\n",
       "    .dataframe tbody tr th {\n",
       "        vertical-align: top;\n",
       "    }\n",
       "\n",
       "    .dataframe thead th {\n",
       "        text-align: right;\n",
       "    }\n",
       "</style>\n",
       "<table border=\"1\" class=\"dataframe\">\n",
       "  <thead>\n",
       "    <tr style=\"text-align: right;\">\n",
       "      <th></th>\n",
       "      <th>tweet_id</th>\n",
       "      <th>timestamp</th>\n",
       "      <th>source</th>\n",
       "      <th>text</th>\n",
       "      <th>expanded_urls</th>\n",
       "      <th>rating_numerator</th>\n",
       "      <th>rating_denominator</th>\n",
       "      <th>name</th>\n",
       "      <th>url</th>\n",
       "      <th>rating_ratio</th>\n",
       "      <th>dog_stage</th>\n",
       "    </tr>\n",
       "  </thead>\n",
       "  <tbody>\n",
       "    <tr>\n",
       "      <th>0</th>\n",
       "      <td>892420643555336193</td>\n",
       "      <td>2017-08-01 16:23:56+00:00</td>\n",
       "      <td>&lt;a href=\"http://twitter.com/download/iphone\" r...</td>\n",
       "      <td>This is Phineas. He's a mystical boy. Only eve...</td>\n",
       "      <td>https://twitter.com/dog_rates/status/892420643...</td>\n",
       "      <td>13.0</td>\n",
       "      <td>10.0</td>\n",
       "      <td>Phineas</td>\n",
       "      <td>https://t.co/MgUWQ76dJU</td>\n",
       "      <td>1.3</td>\n",
       "      <td></td>\n",
       "    </tr>\n",
       "    <tr>\n",
       "      <th>1</th>\n",
       "      <td>892177421306343426</td>\n",
       "      <td>2017-08-01 00:17:27+00:00</td>\n",
       "      <td>&lt;a href=\"http://twitter.com/download/iphone\" r...</td>\n",
       "      <td>This is Tilly. She's just checking pup on you....</td>\n",
       "      <td>https://twitter.com/dog_rates/status/892177421...</td>\n",
       "      <td>13.0</td>\n",
       "      <td>10.0</td>\n",
       "      <td>Tilly</td>\n",
       "      <td>https://t.co/0Xxu71qeIV</td>\n",
       "      <td>1.3</td>\n",
       "      <td></td>\n",
       "    </tr>\n",
       "  </tbody>\n",
       "</table>\n",
       "</div>"
      ],
      "text/plain": [
       "             tweet_id                 timestamp  \\\n",
       "0  892420643555336193 2017-08-01 16:23:56+00:00   \n",
       "1  892177421306343426 2017-08-01 00:17:27+00:00   \n",
       "\n",
       "                                              source  \\\n",
       "0  <a href=\"http://twitter.com/download/iphone\" r...   \n",
       "1  <a href=\"http://twitter.com/download/iphone\" r...   \n",
       "\n",
       "                                                text  \\\n",
       "0  This is Phineas. He's a mystical boy. Only eve...   \n",
       "1  This is Tilly. She's just checking pup on you....   \n",
       "\n",
       "                                       expanded_urls  rating_numerator  \\\n",
       "0  https://twitter.com/dog_rates/status/892420643...              13.0   \n",
       "1  https://twitter.com/dog_rates/status/892177421...              13.0   \n",
       "\n",
       "   rating_denominator     name                      url  rating_ratio  \\\n",
       "0                10.0  Phineas  https://t.co/MgUWQ76dJU           1.3   \n",
       "1                10.0    Tilly  https://t.co/0Xxu71qeIV           1.3   \n",
       "\n",
       "  dog_stage  \n",
       "0            \n",
       "1            "
      ]
     },
     "execution_count": 145,
     "metadata": {},
     "output_type": "execute_result"
    }
   ],
   "source": [
    "twitter_archive_clean.head(2) # The data looks good, the columns with missing values are dropped and new columns are created and populated. "
   ]
  },
  {
   "cell_type": "code",
   "execution_count": 146,
   "metadata": {},
   "outputs": [
    {
     "data": {
      "text/plain": [
       "tweet_id                            int64\n",
       "timestamp             datetime64[ns, UTC]\n",
       "source                             object\n",
       "text                               object\n",
       "expanded_urls                      object\n",
       "rating_numerator                  float64\n",
       "rating_denominator                float64\n",
       "name                               object\n",
       "url                                object\n",
       "rating_ratio                      float64\n",
       "dog_stage                          object\n",
       "dtype: object"
      ]
     },
     "execution_count": 146,
     "metadata": {},
     "output_type": "execute_result"
    }
   ],
   "source": [
    "twitter_archive_clean.dtypes # It is seen that the  timestamp and the ratings data types are changed. "
   ]
  },
  {
   "cell_type": "code",
   "execution_count": null,
   "metadata": {},
   "outputs": [],
   "source": []
  },
  {
   "cell_type": "code",
   "execution_count": 147,
   "metadata": {},
   "outputs": [
    {
     "data": {
      "text/plain": [
       "\"This is Phineas. He's a mystical boy. Only ever appears in the hole of a donut. 13/10 https://t.co/MgUWQ76dJU\""
      ]
     },
     "execution_count": 147,
     "metadata": {},
     "output_type": "execute_result"
    }
   ],
   "source": [
    "# Comparing with the original and clean data, we are certain that the ratings and url are extracted from the text column.\n",
    "\n",
    "twitter_archive_df.text[0]"
   ]
  },
  {
   "cell_type": "code",
   "execution_count": 148,
   "metadata": {},
   "outputs": [
    {
     "data": {
      "text/plain": [
       "\"This is Phineas. He's a mystical boy. Only ever appears in the hole of a donut. \""
      ]
     },
     "execution_count": 148,
     "metadata": {},
     "output_type": "execute_result"
    }
   ],
   "source": [
    "twitter_archive_clean.text[0]"
   ]
  },
  {
   "cell_type": "code",
   "execution_count": 149,
   "metadata": {},
   "outputs": [
    {
     "data": {
      "text/plain": [
       "'https://t.co/MgUWQ76dJU'"
      ]
     },
     "execution_count": 149,
     "metadata": {},
     "output_type": "execute_result"
    }
   ],
   "source": [
    "twitter_archive_clean.url[0]  # The urls are removed from the text column and populated in separated column called \"url\". "
   ]
  },
  {
   "cell_type": "code",
   "execution_count": 150,
   "metadata": {},
   "outputs": [
    {
     "data": {
      "text/html": [
       "<div>\n",
       "<style scoped>\n",
       "    .dataframe tbody tr th:only-of-type {\n",
       "        vertical-align: middle;\n",
       "    }\n",
       "\n",
       "    .dataframe tbody tr th {\n",
       "        vertical-align: top;\n",
       "    }\n",
       "\n",
       "    .dataframe thead th {\n",
       "        text-align: right;\n",
       "    }\n",
       "</style>\n",
       "<table border=\"1\" class=\"dataframe\">\n",
       "  <thead>\n",
       "    <tr style=\"text-align: right;\">\n",
       "      <th></th>\n",
       "      <th>tweet_id</th>\n",
       "      <th>timestamp</th>\n",
       "      <th>source</th>\n",
       "      <th>text</th>\n",
       "      <th>expanded_urls</th>\n",
       "      <th>rating_numerator</th>\n",
       "      <th>rating_denominator</th>\n",
       "      <th>name</th>\n",
       "      <th>url</th>\n",
       "      <th>rating_ratio</th>\n",
       "      <th>dog_stage</th>\n",
       "    </tr>\n",
       "  </thead>\n",
       "  <tbody>\n",
       "  </tbody>\n",
       "</table>\n",
       "</div>"
      ],
      "text/plain": [
       "Empty DataFrame\n",
       "Columns: [tweet_id, timestamp, source, text, expanded_urls, rating_numerator, rating_denominator, name, url, rating_ratio, dog_stage]\n",
       "Index: []"
      ]
     },
     "execution_count": 150,
     "metadata": {},
     "output_type": "execute_result"
    }
   ],
   "source": [
    "twitter_archive_clean[twitter_archive_clean[\"name\"]==\"a\"]  # We are certain that the change has taken place. "
   ]
  },
  {
   "cell_type": "code",
   "execution_count": 151,
   "metadata": {},
   "outputs": [
    {
     "data": {
      "text/html": [
       "<div>\n",
       "<style scoped>\n",
       "    .dataframe tbody tr th:only-of-type {\n",
       "        vertical-align: middle;\n",
       "    }\n",
       "\n",
       "    .dataframe tbody tr th {\n",
       "        vertical-align: top;\n",
       "    }\n",
       "\n",
       "    .dataframe thead th {\n",
       "        text-align: right;\n",
       "    }\n",
       "</style>\n",
       "<table border=\"1\" class=\"dataframe\">\n",
       "  <thead>\n",
       "    <tr style=\"text-align: right;\">\n",
       "      <th></th>\n",
       "      <th>tweet_id</th>\n",
       "      <th>timestamp</th>\n",
       "      <th>source</th>\n",
       "      <th>text</th>\n",
       "      <th>expanded_urls</th>\n",
       "      <th>rating_numerator</th>\n",
       "      <th>rating_denominator</th>\n",
       "      <th>name</th>\n",
       "      <th>url</th>\n",
       "      <th>rating_ratio</th>\n",
       "      <th>dog_stage</th>\n",
       "    </tr>\n",
       "  </thead>\n",
       "  <tbody>\n",
       "  </tbody>\n",
       "</table>\n",
       "</div>"
      ],
      "text/plain": [
       "Empty DataFrame\n",
       "Columns: [tweet_id, timestamp, source, text, expanded_urls, rating_numerator, rating_denominator, name, url, rating_ratio, dog_stage]\n",
       "Index: []"
      ]
     },
     "execution_count": 151,
     "metadata": {},
     "output_type": "execute_result"
    }
   ],
   "source": [
    "twitter_archive_clean[twitter_archive_clean[\"name\"]==\"O\"]  # We are certain that the change has taken place. "
   ]
  },
  {
   "cell_type": "code",
   "execution_count": 152,
   "metadata": {},
   "outputs": [
    {
     "data": {
      "text/plain": [
       "                 1761\n",
       "pupper            221\n",
       "doggo              72\n",
       "puppo              23\n",
       "floofer             9\n",
       "doggo,pupper        9\n",
       "doggo,puppo         1\n",
       "doggo,floofer       1\n",
       "Name: dog_stage, dtype: int64"
      ]
     },
     "execution_count": 152,
     "metadata": {},
     "output_type": "execute_result"
    }
   ],
   "source": [
    "twitter_archive_clean.dog_stage.value_counts()"
   ]
  },
  {
   "cell_type": "code",
   "execution_count": 153,
   "metadata": {},
   "outputs": [
    {
     "data": {
      "text/plain": [
       "'https://twitter.com/dog_rates/status/891327558926688256/photo/1,https://twitter.com/dog_rates/status/891327558926688256/photo/1'"
      ]
     },
     "execution_count": 153,
     "metadata": {},
     "output_type": "execute_result"
    }
   ],
   "source": [
    "# Checking the content in the expanded_urls column index 4 in the original data:\n",
    "\n",
    "twitter_archive_df.expanded_urls[4]  # We see duplicated links"
   ]
  },
  {
   "cell_type": "code",
   "execution_count": 154,
   "metadata": {},
   "outputs": [
    {
     "data": {
      "text/plain": [
       "'https://twitter.com/dog_rates/status/891327558926688256/photo/1'"
      ]
     },
     "execution_count": 154,
     "metadata": {},
     "output_type": "execute_result"
    }
   ],
   "source": [
    "# Checking the changes in the expanded_urls column in the clean data at index 4:\n",
    "\n",
    "twitter_archive_clean.expanded_urls[4]  # We are certain that only one of the duplicated is retained."
   ]
  },
  {
   "cell_type": "code",
   "execution_count": 155,
   "metadata": {},
   "outputs": [
    {
     "data": {
      "text/plain": [
       "                 1761\n",
       "pupper            221\n",
       "doggo              72\n",
       "puppo              23\n",
       "floofer             9\n",
       "doggo,pupper        9\n",
       "doggo,puppo         1\n",
       "doggo,floofer       1\n",
       "Name: dog_stage, dtype: int64"
      ]
     },
     "execution_count": 155,
     "metadata": {},
     "output_type": "execute_result"
    }
   ],
   "source": [
    "twitter_archive_clean.dog_stage.value_counts(ascending = False)"
   ]
  },
  {
   "cell_type": "markdown",
   "metadata": {},
   "source": [
    "Thus, we are certain that the changes are performed correctly. "
   ]
  },
  {
   "cell_type": "markdown",
   "metadata": {},
   "source": [
    "### Tweet-json data"
   ]
  },
  {
   "cell_type": "markdown",
   "metadata": {},
   "source": [
    "#### Define: "
   ]
  },
  {
   "cell_type": "markdown",
   "metadata": {},
   "source": [
    "The following quality issues will be addressed:\n",
    "\n",
    "- Replace the column name \"lang\" by \"language\"\n",
    "- Replace the language abbreviations by more appropriate names"
   ]
  },
  {
   "cell_type": "markdown",
   "metadata": {},
   "source": [
    "#### Code: "
   ]
  },
  {
   "cell_type": "code",
   "execution_count": 156,
   "metadata": {},
   "outputs": [],
   "source": [
    "# Replacing the language abbreviations by more appropriate name\n",
    "\n",
    "replace_language = ({\"en\":\"english\",\"es\":\"spanish\",\"et\":\"estonian\",\n",
    "                     \"eu\": \"basque\", \"in\":\"indonesian\",\"nl\":\"dutsch\",\"ro\":\"romanian\",\"tl\":\"thai\", \"und\":\"undetermined\",})\n",
    "\n",
    "for abbreviate, language in replace_language.items():\n",
    "    tweet_json_clean.lang = tweet_json_clean.lang.str.replace(abbreviate, language)"
   ]
  },
  {
   "cell_type": "code",
   "execution_count": 157,
   "metadata": {},
   "outputs": [],
   "source": [
    "# Renaming the column \"lang\" by \"language\"\n",
    "tweet_json_clean.rename(columns = {\"lang\":\"language\"}, inplace = True) "
   ]
  },
  {
   "cell_type": "code",
   "execution_count": 158,
   "metadata": {},
   "outputs": [
    {
     "data": {
      "text/html": [
       "<div>\n",
       "<style scoped>\n",
       "    .dataframe tbody tr th:only-of-type {\n",
       "        vertical-align: middle;\n",
       "    }\n",
       "\n",
       "    .dataframe tbody tr th {\n",
       "        vertical-align: top;\n",
       "    }\n",
       "\n",
       "    .dataframe thead th {\n",
       "        text-align: right;\n",
       "    }\n",
       "</style>\n",
       "<table border=\"1\" class=\"dataframe\">\n",
       "  <thead>\n",
       "    <tr style=\"text-align: right;\">\n",
       "      <th></th>\n",
       "      <th>id</th>\n",
       "      <th>retweet_count</th>\n",
       "      <th>favorite_count</th>\n",
       "      <th>language</th>\n",
       "      <th>followers_count</th>\n",
       "    </tr>\n",
       "  </thead>\n",
       "  <tbody>\n",
       "    <tr>\n",
       "      <th>2289</th>\n",
       "      <td>667165590075940865</td>\n",
       "      <td>1241</td>\n",
       "      <td>2819</td>\n",
       "      <td>english</td>\n",
       "      <td>3201017</td>\n",
       "    </tr>\n",
       "    <tr>\n",
       "      <th>1612</th>\n",
       "      <td>685307451701334016</td>\n",
       "      <td>496</td>\n",
       "      <td>2262</td>\n",
       "      <td>english</td>\n",
       "      <td>3200950</td>\n",
       "    </tr>\n",
       "    <tr>\n",
       "      <th>887</th>\n",
       "      <td>759793422261743616</td>\n",
       "      <td>2173</td>\n",
       "      <td>6620</td>\n",
       "      <td>english</td>\n",
       "      <td>3200908</td>\n",
       "    </tr>\n",
       "    <tr>\n",
       "      <th>1758</th>\n",
       "      <td>678708137298427904</td>\n",
       "      <td>2753</td>\n",
       "      <td>6082</td>\n",
       "      <td>english</td>\n",
       "      <td>3200953</td>\n",
       "    </tr>\n",
       "    <tr>\n",
       "      <th>1207</th>\n",
       "      <td>715696743237730304</td>\n",
       "      <td>1454</td>\n",
       "      <td>4257</td>\n",
       "      <td>english</td>\n",
       "      <td>3200945</td>\n",
       "    </tr>\n",
       "    <tr>\n",
       "      <th>414</th>\n",
       "      <td>822647212903690241</td>\n",
       "      <td>7390</td>\n",
       "      <td>0</td>\n",
       "      <td>english</td>\n",
       "      <td>3200894</td>\n",
       "    </tr>\n",
       "    <tr>\n",
       "      <th>911</th>\n",
       "      <td>757400162377592832</td>\n",
       "      <td>7759</td>\n",
       "      <td>16743</td>\n",
       "      <td>english</td>\n",
       "      <td>3200943</td>\n",
       "    </tr>\n",
       "  </tbody>\n",
       "</table>\n",
       "</div>"
      ],
      "text/plain": [
       "                      id  retweet_count  favorite_count language  \\\n",
       "2289  667165590075940865           1241            2819  english   \n",
       "1612  685307451701334016            496            2262  english   \n",
       "887   759793422261743616           2173            6620  english   \n",
       "1758  678708137298427904           2753            6082  english   \n",
       "1207  715696743237730304           1454            4257  english   \n",
       "414   822647212903690241           7390               0  english   \n",
       "911   757400162377592832           7759           16743  english   \n",
       "\n",
       "      followers_count  \n",
       "2289          3201017  \n",
       "1612          3200950  \n",
       "887           3200908  \n",
       "1758          3200953  \n",
       "1207          3200945  \n",
       "414           3200894  \n",
       "911           3200943  "
      ]
     },
     "execution_count": 158,
     "metadata": {},
     "output_type": "execute_result"
    }
   ],
   "source": [
    "tweet_json_clean.sample(7)"
   ]
  },
  {
   "cell_type": "markdown",
   "metadata": {},
   "source": [
    "#### Test: "
   ]
  },
  {
   "cell_type": "code",
   "execution_count": 159,
   "metadata": {},
   "outputs": [
    {
     "data": {
      "text/plain": [
       "Index(['id', 'retweet_count', 'favorite_count', 'language', 'followers_count'], dtype='object')"
      ]
     },
     "execution_count": 159,
     "metadata": {},
     "output_type": "execute_result"
    }
   ],
   "source": [
    "tweet_json_clean.columns# We comfirm that the column name \"lang\" is changed into \"language\"."
   ]
  },
  {
   "cell_type": "code",
   "execution_count": 160,
   "metadata": {},
   "outputs": [
    {
     "data": {
      "text/plain": [
       "language\n",
       "basque              2892\n",
       "dutsch              3867\n",
       "english         18948828\n",
       "estonian             414\n",
       "indonesian         56456\n",
       "romanian               0\n",
       "spanish              840\n",
       "thai                 161\n",
       "undetermined        9142\n",
       "Name: favorite_count, dtype: int64"
      ]
     },
     "execution_count": 160,
     "metadata": {},
     "output_type": "execute_result"
    }
   ],
   "source": [
    "tweet_json_clean.groupby(\"language\")[\"favorite_count\"].sum()  # We here that the language abbreviations are replaced by more appropriate language names. "
   ]
  },
  {
   "cell_type": "markdown",
   "metadata": {},
   "source": [
    "### Merging the data frames into a single table, a tidiness issue"
   ]
  },
  {
   "cell_type": "code",
   "execution_count": 161,
   "metadata": {},
   "outputs": [
    {
     "data": {
      "text/html": [
       "<div>\n",
       "<style scoped>\n",
       "    .dataframe tbody tr th:only-of-type {\n",
       "        vertical-align: middle;\n",
       "    }\n",
       "\n",
       "    .dataframe tbody tr th {\n",
       "        vertical-align: top;\n",
       "    }\n",
       "\n",
       "    .dataframe thead th {\n",
       "        text-align: right;\n",
       "    }\n",
       "</style>\n",
       "<table border=\"1\" class=\"dataframe\">\n",
       "  <thead>\n",
       "    <tr style=\"text-align: right;\">\n",
       "      <th></th>\n",
       "      <th>tweet_id</th>\n",
       "      <th>timestamp</th>\n",
       "      <th>source</th>\n",
       "      <th>text</th>\n",
       "      <th>expanded_urls</th>\n",
       "      <th>rating_numerator</th>\n",
       "      <th>rating_denominator</th>\n",
       "      <th>name</th>\n",
       "      <th>url</th>\n",
       "      <th>rating_ratio</th>\n",
       "      <th>...</th>\n",
       "      <th>image_num</th>\n",
       "      <th>predict1</th>\n",
       "      <th>predict1_conf</th>\n",
       "      <th>predict1_dog</th>\n",
       "      <th>predict2</th>\n",
       "      <th>predict2_conf</th>\n",
       "      <th>predict2_dog</th>\n",
       "      <th>predict3</th>\n",
       "      <th>predict3_conf</th>\n",
       "      <th>predict3_dog</th>\n",
       "    </tr>\n",
       "  </thead>\n",
       "  <tbody>\n",
       "    <tr>\n",
       "      <th>0</th>\n",
       "      <td>892420643555336193</td>\n",
       "      <td>2017-08-01 16:23:56+00:00</td>\n",
       "      <td>&lt;a href=\"http://twitter.com/download/iphone\" r...</td>\n",
       "      <td>This is Phineas. He's a mystical boy. Only eve...</td>\n",
       "      <td>https://twitter.com/dog_rates/status/892420643...</td>\n",
       "      <td>13.0</td>\n",
       "      <td>10.0</td>\n",
       "      <td>Phineas</td>\n",
       "      <td>https://t.co/MgUWQ76dJU</td>\n",
       "      <td>1.3</td>\n",
       "      <td>...</td>\n",
       "      <td>1</td>\n",
       "      <td>Orange</td>\n",
       "      <td>0.097049</td>\n",
       "      <td>False</td>\n",
       "      <td>Bagel</td>\n",
       "      <td>0.085851</td>\n",
       "      <td>False</td>\n",
       "      <td>Banana</td>\n",
       "      <td>0.076110</td>\n",
       "      <td>False</td>\n",
       "    </tr>\n",
       "    <tr>\n",
       "      <th>1</th>\n",
       "      <td>892177421306343426</td>\n",
       "      <td>2017-08-01 00:17:27+00:00</td>\n",
       "      <td>&lt;a href=\"http://twitter.com/download/iphone\" r...</td>\n",
       "      <td>This is Tilly. She's just checking pup on you....</td>\n",
       "      <td>https://twitter.com/dog_rates/status/892177421...</td>\n",
       "      <td>13.0</td>\n",
       "      <td>10.0</td>\n",
       "      <td>Tilly</td>\n",
       "      <td>https://t.co/0Xxu71qeIV</td>\n",
       "      <td>1.3</td>\n",
       "      <td>...</td>\n",
       "      <td>1</td>\n",
       "      <td>Chihuahua</td>\n",
       "      <td>0.323581</td>\n",
       "      <td>True</td>\n",
       "      <td>Pekinese</td>\n",
       "      <td>0.090647</td>\n",
       "      <td>True</td>\n",
       "      <td>Papillon</td>\n",
       "      <td>0.068957</td>\n",
       "      <td>True</td>\n",
       "    </tr>\n",
       "  </tbody>\n",
       "</table>\n",
       "<p>2 rows × 26 columns</p>\n",
       "</div>"
      ],
      "text/plain": [
       "             tweet_id                 timestamp  \\\n",
       "0  892420643555336193 2017-08-01 16:23:56+00:00   \n",
       "1  892177421306343426 2017-08-01 00:17:27+00:00   \n",
       "\n",
       "                                              source  \\\n",
       "0  <a href=\"http://twitter.com/download/iphone\" r...   \n",
       "1  <a href=\"http://twitter.com/download/iphone\" r...   \n",
       "\n",
       "                                                text  \\\n",
       "0  This is Phineas. He's a mystical boy. Only eve...   \n",
       "1  This is Tilly. She's just checking pup on you....   \n",
       "\n",
       "                                       expanded_urls  rating_numerator  \\\n",
       "0  https://twitter.com/dog_rates/status/892420643...              13.0   \n",
       "1  https://twitter.com/dog_rates/status/892177421...              13.0   \n",
       "\n",
       "   rating_denominator     name                      url  rating_ratio  ...  \\\n",
       "0                10.0  Phineas  https://t.co/MgUWQ76dJU           1.3  ...   \n",
       "1                10.0    Tilly  https://t.co/0Xxu71qeIV           1.3  ...   \n",
       "\n",
       "  image_num   predict1  predict1_conf predict1_dog  predict2 predict2_conf  \\\n",
       "0         1     Orange       0.097049        False     Bagel      0.085851   \n",
       "1         1  Chihuahua       0.323581         True  Pekinese      0.090647   \n",
       "\n",
       "   predict2_dog  predict3  predict3_conf  predict3_dog  \n",
       "0         False    Banana       0.076110         False  \n",
       "1          True  Papillon       0.068957          True  \n",
       "\n",
       "[2 rows x 26 columns]"
      ]
     },
     "execution_count": 161,
     "metadata": {},
     "output_type": "execute_result"
    }
   ],
   "source": [
    "# Related tables ( data frames) are existed separatedly, which is considered as a tidiness issue \n",
    "# There we merge them together.\n",
    "\n",
    "twitter_archive_tweet = pd.merge(twitter_archive_clean,tweet_json_clean, left_on = \"tweet_id\", right_on = \"id\", how=\"inner\")\n",
    "\n",
    "twitter_archive_tweet.drop(columns= \"id\", inplace = True)  # Drop the id to avoid repeatation of data as this is represented by tweet_id\n",
    "\n",
    "df_all = pd.merge(twitter_archive_tweet, image_predictions_clean, on = \"tweet_id\", how =\"inner\")\n",
    "\n",
    "df_all.head(2)"
   ]
  },
  {
   "cell_type": "markdown",
   "metadata": {},
   "source": [
    "##  Analysis  and visualization"
   ]
  },
  {
   "cell_type": "markdown",
   "metadata": {},
   "source": [
    "\n",
    "- Which dog does have the highest favorite count and rating?\n",
    "- Which prediction algorithm was the most successful in identifying wether the animal was a dog or not? \n"
   ]
  },
  {
   "cell_type": "code",
   "execution_count": null,
   "metadata": {},
   "outputs": [],
   "source": []
  },
  {
   "cell_type": "code",
   "execution_count": 162,
   "metadata": {},
   "outputs": [
    {
     "data": {
      "text/html": [
       "<div>\n",
       "<style scoped>\n",
       "    .dataframe tbody tr th:only-of-type {\n",
       "        vertical-align: middle;\n",
       "    }\n",
       "\n",
       "    .dataframe tbody tr th {\n",
       "        vertical-align: top;\n",
       "    }\n",
       "\n",
       "    .dataframe thead th {\n",
       "        text-align: right;\n",
       "    }\n",
       "</style>\n",
       "<table border=\"1\" class=\"dataframe\">\n",
       "  <thead>\n",
       "    <tr style=\"text-align: right;\">\n",
       "      <th></th>\n",
       "      <th>tweet_id</th>\n",
       "      <th>timestamp</th>\n",
       "      <th>source</th>\n",
       "      <th>text</th>\n",
       "      <th>expanded_urls</th>\n",
       "      <th>rating_numerator</th>\n",
       "      <th>rating_denominator</th>\n",
       "      <th>name</th>\n",
       "      <th>url</th>\n",
       "      <th>rating_ratio</th>\n",
       "      <th>...</th>\n",
       "      <th>image_num</th>\n",
       "      <th>predict1</th>\n",
       "      <th>predict1_conf</th>\n",
       "      <th>predict1_dog</th>\n",
       "      <th>predict2</th>\n",
       "      <th>predict2_conf</th>\n",
       "      <th>predict2_dog</th>\n",
       "      <th>predict3</th>\n",
       "      <th>predict3_conf</th>\n",
       "      <th>predict3_dog</th>\n",
       "    </tr>\n",
       "  </thead>\n",
       "  <tbody>\n",
       "    <tr>\n",
       "      <th>722</th>\n",
       "      <td>749981277374128128</td>\n",
       "      <td>2016-07-04 15:00:45+00:00</td>\n",
       "      <td>&lt;a href=\"https://about.twitter.com/products/tw...</td>\n",
       "      <td>This is Atticus. He's quite simply America af.</td>\n",
       "      <td>https://twitter.com/dog_rates/status/749981277...</td>\n",
       "      <td>1776.0</td>\n",
       "      <td>10.0</td>\n",
       "      <td>Atticus</td>\n",
       "      <td>https://t.co/GRXwMxLBkh</td>\n",
       "      <td>177.6</td>\n",
       "      <td>...</td>\n",
       "      <td>1</td>\n",
       "      <td>Bow_Tie</td>\n",
       "      <td>0.533941</td>\n",
       "      <td>False</td>\n",
       "      <td>Sunglasses</td>\n",
       "      <td>0.080822</td>\n",
       "      <td>False</td>\n",
       "      <td>Sunglass</td>\n",
       "      <td>0.050776</td>\n",
       "      <td>False</td>\n",
       "    </tr>\n",
       "    <tr>\n",
       "      <th>1696</th>\n",
       "      <td>670842764863651840</td>\n",
       "      <td>2015-11-29 05:52:33+00:00</td>\n",
       "      <td>&lt;a href=\"http://twitter.com/download/iphone\" r...</td>\n",
       "      <td>After so many requests... here you go.\\n\\nGood...</td>\n",
       "      <td>https://twitter.com/dog_rates/status/670842764...</td>\n",
       "      <td>420.0</td>\n",
       "      <td>10.0</td>\n",
       "      <td>None</td>\n",
       "      <td>https://t.co/yfAAo1gdeY</td>\n",
       "      <td>42.0</td>\n",
       "      <td>...</td>\n",
       "      <td>1</td>\n",
       "      <td>Microphone</td>\n",
       "      <td>0.096063</td>\n",
       "      <td>False</td>\n",
       "      <td>Accordion</td>\n",
       "      <td>0.094075</td>\n",
       "      <td>False</td>\n",
       "      <td>Drumstick</td>\n",
       "      <td>0.061113</td>\n",
       "      <td>False</td>\n",
       "    </tr>\n",
       "  </tbody>\n",
       "</table>\n",
       "<p>2 rows × 26 columns</p>\n",
       "</div>"
      ],
      "text/plain": [
       "                tweet_id                 timestamp  \\\n",
       "722   749981277374128128 2016-07-04 15:00:45+00:00   \n",
       "1696  670842764863651840 2015-11-29 05:52:33+00:00   \n",
       "\n",
       "                                                 source  \\\n",
       "722   <a href=\"https://about.twitter.com/products/tw...   \n",
       "1696  <a href=\"http://twitter.com/download/iphone\" r...   \n",
       "\n",
       "                                                   text  \\\n",
       "722     This is Atticus. He's quite simply America af.    \n",
       "1696  After so many requests... here you go.\\n\\nGood...   \n",
       "\n",
       "                                          expanded_urls  rating_numerator  \\\n",
       "722   https://twitter.com/dog_rates/status/749981277...            1776.0   \n",
       "1696  https://twitter.com/dog_rates/status/670842764...             420.0   \n",
       "\n",
       "      rating_denominator     name                      url  rating_ratio  ...  \\\n",
       "722                 10.0  Atticus  https://t.co/GRXwMxLBkh         177.6  ...   \n",
       "1696                10.0     None  https://t.co/yfAAo1gdeY          42.0  ...   \n",
       "\n",
       "     image_num    predict1  predict1_conf predict1_dog    predict2  \\\n",
       "722          1     Bow_Tie       0.533941        False  Sunglasses   \n",
       "1696         1  Microphone       0.096063        False   Accordion   \n",
       "\n",
       "     predict2_conf  predict2_dog   predict3  predict3_conf  predict3_dog  \n",
       "722       0.080822         False   Sunglass       0.050776         False  \n",
       "1696      0.094075         False  Drumstick       0.061113         False  \n",
       "\n",
       "[2 rows x 26 columns]"
      ]
     },
     "execution_count": 162,
     "metadata": {},
     "output_type": "execute_result"
    }
   ],
   "source": [
    "# Which dog does have the highest rating?\n",
    "\n",
    "df_all.sort_values(by =\"rating_ratio\", ascending = False).head(2)"
   ]
  },
  {
   "cell_type": "code",
   "execution_count": 163,
   "metadata": {},
   "outputs": [
    {
     "data": {
      "text/plain": [
       "722     177.600000\n",
       "1696     42.000000\n",
       "382       3.428571\n",
       "780       1.400000\n",
       "294       1.400000\n",
       "Name: rating_ratio, dtype: float64"
      ]
     },
     "execution_count": 163,
     "metadata": {},
     "output_type": "execute_result"
    }
   ],
   "source": [
    "df_all.sort_values(by =\"rating_ratio\", ascending = False)[\"rating_ratio\"].head()"
   ]
  },
  {
   "cell_type": "markdown",
   "metadata": {},
   "source": [
    "The dog with the highest rating was Atticus despite the fact that this dog has the highest rating, the algorithms identified as an object \"Bow_Tie\", \"Sunglass\" respectively."
   ]
  },
  {
   "cell_type": "code",
   "execution_count": 164,
   "metadata": {},
   "outputs": [
    {
     "data": {
      "text/plain": [
       "None          0.265855\n",
       "              0.028412\n",
       "Charlie       0.005581\n",
       "Lucy          0.005074\n",
       "Cooper        0.005074\n",
       "                ...   \n",
       "Kevon         0.000507\n",
       "Winifred      0.000507\n",
       "Darla         0.000507\n",
       "Zeek          0.000507\n",
       "Christoper    0.000507\n",
       "Name: name, Length: 934, dtype: float64"
      ]
     },
     "execution_count": 164,
     "metadata": {},
     "output_type": "execute_result"
    }
   ],
   "source": [
    "(df_all[\"name\"].value_counts().sort_values(ascending = False))/df_all.shape[0]# 27% of the dogs names is not mentioned. "
   ]
  },
  {
   "cell_type": "markdown",
   "metadata": {},
   "source": [
    "###  Which prediction algorithm was the most successful in identifying wether the animal was a dog or not? "
   ]
  },
  {
   "cell_type": "code",
   "execution_count": 165,
   "metadata": {},
   "outputs": [
    {
     "data": {
      "text/plain": [
       "True     0.742263\n",
       "False    0.257737\n",
       "Name: predict1_dog, dtype: float64"
      ]
     },
     "execution_count": 165,
     "metadata": {},
     "output_type": "execute_result"
    }
   ],
   "source": [
    "# Prediction 1: \n",
    "\n",
    "df_all.predict1_dog.value_counts()/df_all.shape[0]"
   ]
  },
  {
   "cell_type": "code",
   "execution_count": 166,
   "metadata": {},
   "outputs": [
    {
     "data": {
      "image/png": "[encoded data removed]",
      "text/plain": [
       "<Figure size 1200x800 with 1 Axes>"
      ]
     },
     "metadata": {},
     "output_type": "display_data"
    }
   ],
   "source": [
    "ax1 = ((df_all.predict1_dog.value_counts()/df_all.shape[0])*100).plot(kind =\"bar\", figsize = (12,8), color=\"c\")\n",
    "\n",
    "ax1.set_ylabel(\"Prediction dog [%] \", fontsize = 15);\n",
    "ax1.set_title(\"Prediction of algorithm 1 \");\n"
   ]
  },
  {
   "cell_type": "code",
   "execution_count": 167,
   "metadata": {},
   "outputs": [
    {
     "data": {
      "text/plain": [
       "True     0.750888\n",
       "False    0.249112\n",
       "Name: predict2_dog, dtype: float64"
      ]
     },
     "execution_count": 167,
     "metadata": {},
     "output_type": "execute_result"
    }
   ],
   "source": [
    "# Prediction 2: \n",
    "\n",
    "df_all[\"predict2_dog\"].value_counts()/df_all.shape[0]"
   ]
  },
  {
   "cell_type": "code",
   "execution_count": 168,
   "metadata": {},
   "outputs": [
    {
     "data": {
      "image/png": "[encoded data removed]",
      "text/plain": [
       "<Figure size 1200x800 with 1 Axes>"
      ]
     },
     "metadata": {},
     "output_type": "display_data"
    }
   ],
   "source": [
    "ax2 = ((df_all[\"predict2_dog\"].value_counts()/df_all.shape[0])*100).plot(kind =\"bar\", figsize = (12,8), color =\"c\")\n",
    "\n",
    "ax2.set_ylabel(\"Prediction dog [%] \", fontsize = 15);\n",
    "ax2.set_title(\"Prediction of algorithm 2 \");\n"
   ]
  },
  {
   "cell_type": "code",
   "execution_count": 169,
   "metadata": {},
   "outputs": [
    {
     "data": {
      "text/plain": [
       "True     0.726027\n",
       "False    0.273973\n",
       "Name: predict3_dog, dtype: float64"
      ]
     },
     "execution_count": 169,
     "metadata": {},
     "output_type": "execute_result"
    }
   ],
   "source": [
    "df_all[\"predict3_dog\"].value_counts()/df_all.shape[0]"
   ]
  },
  {
   "cell_type": "code",
   "execution_count": 170,
   "metadata": {},
   "outputs": [
    {
     "data": {
      "image/png": "[encoded data removed]",
      "text/plain": [
       "<Figure size 1200x800 with 1 Axes>"
      ]
     },
     "metadata": {},
     "output_type": "display_data"
    }
   ],
   "source": [
    "ax3 = ((df_all[\"predict3_dog\"].value_counts()/df_all.shape[0])*100).plot(kind =\"bar\", figsize = (12,8), color = \"c\")\n",
    "\n",
    "ax3.set_ylabel(\"Prediction dog [%] \", fontsize = 15);\n",
    "ax3.set_title(\"Prediction of algorithm 3 \");"
   ]
  },
  {
   "cell_type": "markdown",
   "metadata": {},
   "source": [
    "The performance of the algorithms is almost similar around 3/4 identified clearly that the image was a dog and 1/4 was found out to be false.\n",
    "Among the three algorithms, the second algorithm slightly performanced well. "
   ]
  },
  {
   "cell_type": "code",
   "execution_count": 171,
   "metadata": {},
   "outputs": [
    {
     "data": {
      "text/html": [
       "<div>\n",
       "<style scoped>\n",
       "    .dataframe tbody tr th:only-of-type {\n",
       "        vertical-align: middle;\n",
       "    }\n",
       "\n",
       "    .dataframe tbody tr th {\n",
       "        vertical-align: top;\n",
       "    }\n",
       "\n",
       "    .dataframe thead th {\n",
       "        text-align: right;\n",
       "    }\n",
       "</style>\n",
       "<table border=\"1\" class=\"dataframe\">\n",
       "  <thead>\n",
       "    <tr style=\"text-align: right;\">\n",
       "      <th></th>\n",
       "      <th>timestamp</th>\n",
       "      <th>favorite_count</th>\n",
       "    </tr>\n",
       "  </thead>\n",
       "  <tbody>\n",
       "    <tr>\n",
       "      <th>0</th>\n",
       "      <td>2017-07-31 00:18:03+00:00</td>\n",
       "      <td>25461</td>\n",
       "    </tr>\n",
       "    <tr>\n",
       "      <th>1</th>\n",
       "      <td>2017-07-29 00:08:17+00:00</td>\n",
       "      <td>20562</td>\n",
       "    </tr>\n",
       "    <tr>\n",
       "      <th>2</th>\n",
       "      <td>2017-07-28 16:27:12+00:00</td>\n",
       "      <td>12041</td>\n",
       "    </tr>\n",
       "    <tr>\n",
       "      <th>3</th>\n",
       "      <td>2017-07-27 16:25:51+00:00</td>\n",
       "      <td>28226</td>\n",
       "    </tr>\n",
       "    <tr>\n",
       "      <th>4</th>\n",
       "      <td>2017-07-26 15:59:51+00:00</td>\n",
       "      <td>32467</td>\n",
       "    </tr>\n",
       "    <tr>\n",
       "      <th>...</th>\n",
       "      <td>...</td>\n",
       "      <td>...</td>\n",
       "    </tr>\n",
       "    <tr>\n",
       "      <th>1881</th>\n",
       "      <td>2015-11-16 00:24:50+00:00</td>\n",
       "      <td>111</td>\n",
       "    </tr>\n",
       "    <tr>\n",
       "      <th>1882</th>\n",
       "      <td>2015-11-16 00:04:52+00:00</td>\n",
       "      <td>311</td>\n",
       "    </tr>\n",
       "    <tr>\n",
       "      <th>1883</th>\n",
       "      <td>2015-11-15 23:21:54+00:00</td>\n",
       "      <td>128</td>\n",
       "    </tr>\n",
       "    <tr>\n",
       "      <th>1884</th>\n",
       "      <td>2015-11-15 23:05:30+00:00</td>\n",
       "      <td>132</td>\n",
       "    </tr>\n",
       "    <tr>\n",
       "      <th>1885</th>\n",
       "      <td>2015-11-15 22:32:08+00:00</td>\n",
       "      <td>2535</td>\n",
       "    </tr>\n",
       "  </tbody>\n",
       "</table>\n",
       "<p>1886 rows × 2 columns</p>\n",
       "</div>"
      ],
      "text/plain": [
       "                     timestamp  favorite_count\n",
       "0    2017-07-31 00:18:03+00:00           25461\n",
       "1    2017-07-29 00:08:17+00:00           20562\n",
       "2    2017-07-28 16:27:12+00:00           12041\n",
       "3    2017-07-27 16:25:51+00:00           28226\n",
       "4    2017-07-26 15:59:51+00:00           32467\n",
       "...                        ...             ...\n",
       "1881 2015-11-16 00:24:50+00:00             111\n",
       "1882 2015-11-16 00:04:52+00:00             311\n",
       "1883 2015-11-15 23:21:54+00:00             128\n",
       "1884 2015-11-15 23:05:30+00:00             132\n",
       "1885 2015-11-15 22:32:08+00:00            2535\n",
       "\n",
       "[1886 rows x 2 columns]"
      ]
     },
     "execution_count": 171,
     "metadata": {},
     "output_type": "execute_result"
    }
   ],
   "source": [
    "mean_favorite = np.mean(df_all[\"favorite_count\"])\n",
    "std_favorite =  np.std(df_all[\"favorite_count\"])\n",
    "threshold = 2\n",
    "mean_to_value = abs(df_all[\"favorite_count\"]-  mean_favorite)\n",
    "\n",
    "not_outlier = not_outlier =  mean_to_value < threshold * std_favorite\n",
    "\n",
    "df_favorite = df_all.loc[not_outlier, [\"timestamp\", \"favorite_count\"]].reset_index()\n",
    "\n",
    "df_favorite.drop(columns = \"index\", inplace = True)\n",
    "\n",
    "df_favorite"
   ]
  },
  {
   "cell_type": "code",
   "execution_count": 172,
   "metadata": {},
   "outputs": [
    {
     "data": {
      "text/html": [
       "<div>\n",
       "<style scoped>\n",
       "    .dataframe tbody tr th:only-of-type {\n",
       "        vertical-align: middle;\n",
       "    }\n",
       "\n",
       "    .dataframe tbody tr th {\n",
       "        vertical-align: top;\n",
       "    }\n",
       "\n",
       "    .dataframe thead th {\n",
       "        text-align: right;\n",
       "    }\n",
       "</style>\n",
       "<table border=\"1\" class=\"dataframe\">\n",
       "  <thead>\n",
       "    <tr style=\"text-align: right;\">\n",
       "      <th></th>\n",
       "      <th>timestamp</th>\n",
       "      <th>retweet_count</th>\n",
       "    </tr>\n",
       "  </thead>\n",
       "  <tbody>\n",
       "    <tr>\n",
       "      <th>0</th>\n",
       "      <td>2017-08-01 16:23:56+00:00</td>\n",
       "      <td>8853</td>\n",
       "    </tr>\n",
       "    <tr>\n",
       "      <th>1</th>\n",
       "      <td>2017-08-01 00:17:27+00:00</td>\n",
       "      <td>6514</td>\n",
       "    </tr>\n",
       "    <tr>\n",
       "      <th>2</th>\n",
       "      <td>2017-07-31 00:18:03+00:00</td>\n",
       "      <td>4328</td>\n",
       "    </tr>\n",
       "    <tr>\n",
       "      <th>3</th>\n",
       "      <td>2017-07-30 15:58:51+00:00</td>\n",
       "      <td>8964</td>\n",
       "    </tr>\n",
       "    <tr>\n",
       "      <th>4</th>\n",
       "      <td>2017-07-29 16:00:24+00:00</td>\n",
       "      <td>9774</td>\n",
       "    </tr>\n",
       "    <tr>\n",
       "      <th>...</th>\n",
       "      <td>...</td>\n",
       "      <td>...</td>\n",
       "    </tr>\n",
       "    <tr>\n",
       "      <th>1907</th>\n",
       "      <td>2015-11-16 00:24:50+00:00</td>\n",
       "      <td>41</td>\n",
       "    </tr>\n",
       "    <tr>\n",
       "      <th>1908</th>\n",
       "      <td>2015-11-16 00:04:52+00:00</td>\n",
       "      <td>147</td>\n",
       "    </tr>\n",
       "    <tr>\n",
       "      <th>1909</th>\n",
       "      <td>2015-11-15 23:21:54+00:00</td>\n",
       "      <td>47</td>\n",
       "    </tr>\n",
       "    <tr>\n",
       "      <th>1910</th>\n",
       "      <td>2015-11-15 23:05:30+00:00</td>\n",
       "      <td>48</td>\n",
       "    </tr>\n",
       "    <tr>\n",
       "      <th>1911</th>\n",
       "      <td>2015-11-15 22:32:08+00:00</td>\n",
       "      <td>532</td>\n",
       "    </tr>\n",
       "  </tbody>\n",
       "</table>\n",
       "<p>1912 rows × 2 columns</p>\n",
       "</div>"
      ],
      "text/plain": [
       "                     timestamp  retweet_count\n",
       "0    2017-08-01 16:23:56+00:00           8853\n",
       "1    2017-08-01 00:17:27+00:00           6514\n",
       "2    2017-07-31 00:18:03+00:00           4328\n",
       "3    2017-07-30 15:58:51+00:00           8964\n",
       "4    2017-07-29 16:00:24+00:00           9774\n",
       "...                        ...            ...\n",
       "1907 2015-11-16 00:24:50+00:00             41\n",
       "1908 2015-11-16 00:04:52+00:00            147\n",
       "1909 2015-11-15 23:21:54+00:00             47\n",
       "1910 2015-11-15 23:05:30+00:00             48\n",
       "1911 2015-11-15 22:32:08+00:00            532\n",
       "\n",
       "[1912 rows x 2 columns]"
      ]
     },
     "execution_count": 172,
     "metadata": {},
     "output_type": "execute_result"
    }
   ],
   "source": [
    "mean_retweet = np.mean(df_all[\"retweet_count\"])\n",
    "std_retweet=  np.std(df_all[\"retweet_count\"])\n",
    "threshold = 2\n",
    "mean_to_value = abs(df_all[\"retweet_count\"]-  mean_retweet)\n",
    "\n",
    "not_outlier = not_outlier =  mean_to_value < threshold * std_retweet\n",
    "\n",
    "df_retweet= df_all.loc[not_outlier, [\"timestamp\", \"retweet_count\"]].reset_index()\n",
    "\n",
    "df_retweet.drop(columns = \"index\", inplace = True)\n",
    "\n",
    "df_retweet"
   ]
  },
  {
   "cell_type": "code",
   "execution_count": 173,
   "metadata": {},
   "outputs": [
    {
     "data": {
      "image/png": "[encoded data removed]",
      "text/plain": [
       "<Figure size 1800x800 with 1 Axes>"
      ]
     },
     "metadata": {},
     "output_type": "display_data"
    }
   ],
   "source": [
    "\n",
    "fig, ax = plt.subplots(figsize= (18,8))\n",
    "\n",
    "plt.plot(df_favorite[\"timestamp\"], df_favorite[\"favorite_count\"].rolling(5, min_periods=1).mean(), \"r*\", label =\"Favorite count\")\n",
    "plt.plot(df_retweet[\"timestamp\"], df_retweet[\"retweet_count\"].rolling(5, min_periods=1).mean(), \"b*\", label =\"Retweet count\")\n",
    "\n",
    "plt.xlabel(\"Time\", fontsize = 16)\n",
    "plt.ylabel(\"Count\", fontsize = 16)\n",
    "plt.title(\"Favorite and Retweet Counts as a Function of Time \", fontsize = 16)\n",
    "plt.legend(loc = \"best\")\n",
    "plt.grid()\n",
    "\n",
    "plt.xticks(rotation=45)\n",
    "\n",
    "plt.show()"
   ]
  },
  {
   "cell_type": "markdown",
   "metadata": {},
   "source": [
    "As we see in the above gragh, the favorite counts and retweet counts show an increasing trend. Nevertheless the retweet counts remain below that of the favorite counts throughout the time frame. "
   ]
  },
  {
   "cell_type": "code",
   "execution_count": 174,
   "metadata": {},
   "outputs": [],
   "source": [
    "## Which prediction confience was the best? \n",
    "\n",
    "df_predict_conf = df_all.loc[:,[\"timestamp\", \"predict1_conf\", \"predict2_conf\", \"predict3_conf\"]].copy()\n",
    "\n",
    "df_predict_conf[\"predict1_mean\"] = df_predict_conf[\"predict1_conf\"].rolling(5,min_periods=1).mean()\n",
    "df_predict_conf[\"predict2_mean\"] = df_predict_conf[\"predict2_conf\"].rolling(5,min_periods=1).mean()\n",
    "df_predict_conf[\"predict3_mean\"] = df_predict_conf[\"predict3_conf\"].rolling(5,min_periods=1).mean()"
   ]
  },
  {
   "cell_type": "code",
   "execution_count": 175,
   "metadata": {},
   "outputs": [
    {
     "data": {
      "image/png": "[encoded data removed]",
      "text/plain": [
       "<Figure size 2000x800 with 1 Axes>"
      ]
     },
     "metadata": {},
     "output_type": "display_data"
    }
   ],
   "source": [
    "fig, ax = plt.subplots(figsize= (20,8))\n",
    "                   \n",
    "plt.plot(df_predict_conf[\"timestamp\"], df_predict_conf[\"predict1_mean\"], \"r-\", label= \"Predict1 mean\")\n",
    "plt.plot(df_predict_conf[\"timestamp\"], df_predict_conf[\"predict2_mean\"], \"b-\", label =\"Predict2 mean\")\n",
    "plt.plot(df_predict_conf[\"timestamp\"], df_predict_conf[\"predict3_mean\"], \"c-\", label =\"Predict3 mean\")\n",
    "\n",
    "plt.xlabel(\"Time\", fontsize = 16)\n",
    "plt.ylabel(\"Prediction confidence mean\", fontsize = 16)\n",
    "plt.title(\"Comparion of the Prediction Confidences \", fontsize = 16)\n",
    "plt.legend(loc = \"best\")\n",
    "plt.xticks(rotation=45)\n",
    "\n",
    "plt.show()"
   ]
  },
  {
   "cell_type": "markdown",
   "metadata": {},
   "source": [
    "The predictions 2 and 3 are close to each other and their prediction probability is below 0.3. There is a big gap between the two and the first prediction.  "
   ]
  },
  {
   "cell_type": "code",
   "execution_count": 176,
   "metadata": {},
   "outputs": [
    {
     "data": {
      "text/plain": [
       "Text(0.5, 0, 'Probability')"
      ]
     },
     "execution_count": 176,
     "metadata": {},
     "output_type": "execute_result"
    },
    {
     "data": {
      "image/png": "[encoded data removed]",
      "text/plain": [
       "<Figure size 2300x600 with 3 Axes>"
      ]
     },
     "metadata": {},
     "output_type": "display_data"
    }
   ],
   "source": [
    "fig, [ax1,ax2,ax3]= plt.subplots(1,3,figsize = (23,6))\n",
    "\n",
    "ax1.hist(df_predict_conf[\"predict1_mean\"],color = \"r\" )\n",
    "ax1.axvline(df_all[\"predict1_conf\"].std(), color='b', linestyle='-')\n",
    "\n",
    "ax1.set_title(\"Prediction 1\", fontsize = 16)\n",
    "ax1.set_ylabel(\"Frequency\", fontsize = 16)\n",
    "ax1.set_xlabel(\"Probability\", fontsize = 16)\n",
    "\n",
    "ax2.hist(df_predict_conf[\"predict2_mean\"],color = \"g\" )\n",
    "ax2.axvline(df_all[\"predict2_conf\"].std(), color='r', linestyle='-')\n",
    "\n",
    "ax2.set_title(\"Prediction 2\", fontsize = 16)\n",
    "ax2.set_xlabel(\"Probability\", fontsize = 16)\n",
    "\n",
    "ax3.hist(df_predict_conf[\"predict3_mean\"],color = \"c\" )\n",
    "ax3.axvline(df_all[\"predict3_conf\"].std(), color='k', linestyle='-')\n",
    "\n",
    "\n",
    "ax3.set_title(\"Prediction 3\", fontsize = 16)\n",
    "ax3.set_xlabel(\"Probability\", fontsize = 16)"
   ]
  },
  {
   "cell_type": "code",
   "execution_count": 177,
   "metadata": {},
   "outputs": [
    {
     "data": {
      "text/plain": [
       "0.2721264608048453"
      ]
     },
     "execution_count": 177,
     "metadata": {},
     "output_type": "execute_result"
    }
   ],
   "source": [
    "df_all[\"predict1_conf\"].std()"
   ]
  },
  {
   "cell_type": "markdown",
   "metadata": {},
   "source": [
    "The histograms show normally distributed with highest standard deviation in prediction 1 and the lowest in prediction 3. Additionally, the prediction 3 is left skewed. "
   ]
  },
  {
   "cell_type": "code",
   "execution_count": 178,
   "metadata": {},
   "outputs": [
    {
     "data": {
      "text/plain": [
       "source\n",
       "<a href=\"http://twitter.com/download/iphone\" rel=\"nofollow\">Twitter for iPhone</a>     0.980213\n",
       "<a href=\"http://twitter.com\" rel=\"nofollow\">Twitter Web Client</a>                     0.014206\n",
       "<a href=\"https://about.twitter.com/products/tweetdeck\" rel=\"nofollow\">TweetDeck</a>    0.005581\n",
       "Name: tweet_id, dtype: float64"
      ]
     },
     "execution_count": 178,
     "metadata": {},
     "output_type": "execute_result"
    }
   ],
   "source": [
    "(df_all.groupby(\"source\")[\"tweet_id\"].count().sort_values(ascending =False)/df_all.shape[0])   "
   ]
  },
  {
   "cell_type": "markdown",
   "metadata": {},
   "source": [
    "There are only three tweeting sources and the one with the iphone mobile accounts the highest (98%)."
   ]
  },
  {
   "cell_type": "code",
   "execution_count": 179,
   "metadata": {},
   "outputs": [
    {
     "data": {
      "text/plain": [
       "0       8853\n",
       "1       6514\n",
       "2       4328\n",
       "3       8964\n",
       "4       9774\n",
       "        ... \n",
       "1966      41\n",
       "1967     147\n",
       "1968      47\n",
       "1969      48\n",
       "1970     532\n",
       "Name: retweet_count, Length: 1971, dtype: int64"
      ]
     },
     "execution_count": 179,
     "metadata": {},
     "output_type": "execute_result"
    }
   ],
   "source": [
    "df_all.retweet_count"
   ]
  },
  {
   "cell_type": "code",
   "execution_count": 180,
   "metadata": {},
   "outputs": [
    {
     "data": {
      "text/plain": [
       "dog_stage  name     \n",
       "           None         410\n",
       "                         52\n",
       "           Charlie       10\n",
       "           Lucy           9\n",
       "           Penny          9\n",
       "                       ... \n",
       "puppo      Sebastian      1\n",
       "           Shikha         1\n",
       "           Snoopy         1\n",
       "           Stuart         1\n",
       "           Tonks          1\n",
       "Name: name, Length: 1012, dtype: int64"
      ]
     },
     "execution_count": 180,
     "metadata": {},
     "output_type": "execute_result"
    }
   ],
   "source": [
    "df_all.groupby(\"dog_stage\")[\"name\"].value_counts()"
   ]
  },
  {
   "cell_type": "markdown",
   "metadata": {},
   "source": [
    "### Storing the DataFrame into csv file"
   ]
  },
  {
   "cell_type": "code",
   "execution_count": 181,
   "metadata": {},
   "outputs": [],
   "source": [
    "## Saving the data frame into csv file\n",
    "\n",
    "def write_csv(path,filename, df):\n",
    "    \n",
    "    ''' This function writes a pandas DataFrame into a csv file'''\n",
    "    \n",
    "    \n",
    "    with open(os.path.join(path,filename),\"w\", encoding =\"utf-8\") as file_object:\n",
    "        \n",
    "        df_to_csv = df_all.to_csv(file_object, index = False) \n",
    "        \n",
    "    return df_to_csv\n",
    "\n",
    "path_processed = r\"..\\data\\processed\"\n",
    "\n",
    "\n",
    "if __name__==\"__main__\":\n",
    "    \n",
    "    write_csv(path = path_processed, filename = \"twitter_archive_master.csv\", df = df_all)"
   ]
  },
  {
   "cell_type": "code",
   "execution_count": 182,
   "metadata": {},
   "outputs": [
    {
     "data": {
      "text/plain": [
       "Index(['tweet_id', 'timestamp', 'source', 'text', 'expanded_urls',\n",
       "       'rating_numerator', 'rating_denominator', 'name', 'url', 'rating_ratio',\n",
       "       'dog_stage', 'retweet_count', 'favorite_count', 'language',\n",
       "       'followers_count', 'image_url', 'image_num', 'predict1',\n",
       "       'predict1_conf', 'predict1_dog', 'predict2', 'predict2_conf',\n",
       "       'predict2_dog', 'predict3', 'predict3_conf', 'predict3_dog'],\n",
       "      dtype='object')"
      ]
     },
     "execution_count": 182,
     "metadata": {},
     "output_type": "execute_result"
    }
   ],
   "source": [
    "df_all.columns"
   ]
  }
 ],
 "metadata": {
  "kernelspec": {
   "display_name": "Python 3 (ipykernel)",
   "language": "python",
   "name": "python3"
  },
  "language_info": {
   "codemirror_mode": {
    "name": "ipython",
    "version": 3
   },
   "file_extension": ".py",
   "mimetype": "text/x-python",
   "name": "python",
   "nbconvert_exporter": "python",
   "pygments_lexer": "ipython3",
   "version": "3.9.12"
  },
  "toc": {
   "base_numbering": 1,
   "nav_menu": {},
   "number_sections": true,
   "sideBar": true,
   "skip_h1_title": true,
   "title_cell": "Table of Contents",
   "title_sidebar": "Contents",
   "toc_cell": true,
   "toc_position": {
    "height": "calc(100% - 180px)",
    "left": "10px",
    "top": "150px",
    "width": "165px"
   },
   "toc_section_display": true,
   "toc_window_display": true
  }
 },
 "nbformat": 4,
 "nbformat_minor": 4
}
